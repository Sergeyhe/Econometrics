{
 "cells": [
  {
   "cell_type": "markdown",
   "metadata": {},
   "source": [
    "### Official Websites (Examples)\n",
    "https://bashtage.github.io/linearmodels/panel/index.html"
   ]
  },
  {
   "cell_type": "markdown",
   "metadata": {},
   "source": [
    "### Official Github (Examples)\n",
    "\n",
    "https://github.com/bashtage/linearmodels/blob/main/README.md"
   ]
  },
  {
   "cell_type": "markdown",
   "metadata": {},
   "source": [
    "https://bashtage.github.io/linearmodels/panel/examples/examples.html"
   ]
  },
  {
   "cell_type": "markdown",
   "metadata": {},
   "source": [
    "## 1. Wage (Wage ~ Experience)"
   ]
  },
  {
   "cell_type": "code",
   "execution_count": 1,
   "metadata": {},
   "outputs": [],
   "source": [
    "from linearmodels.panel import PanelOLS\n",
    "from linearmodels.datasets import wage_panel\n",
    "import statsmodels.api as sm\n",
    "from linearmodels import BetweenOLS, FirstDifferenceOLS, PooledOLS\n",
    "import pandas as pd\n",
    "\n",
    "pd.set_option('display.float_format', lambda x:'%.7f' % x)"
   ]
  },
  {
   "cell_type": "code",
   "execution_count": 2,
   "metadata": {},
   "outputs": [
    {
     "name": "stdout",
     "output_type": "stream",
     "text": [
      "[0.014s][warning][os,thread] Attempt to protect stack guard pages failed (0x000000016d3f4000-0x000000016d400000).\n",
      "[0.014s][warning][os,thread] Attempt to deallocate stack guard pages failed.\n",
      "\n",
      "  ___  ____  ____  ____  ____ ©\n",
      " /__    /   ____/   /   ____/      17.0\n",
      "___/   /   /___/   /   /___/       SE—Standard Edition\n",
      "\n",
      " Statistics and Data Science       Copyright 1985-2021 StataCorp LLC\n",
      "                                   StataCorp\n",
      "                                   4905 Lakeway Drive\n",
      "                                   College Station, Texas 77845 USA\n",
      "                                   800-STATA-PC        https://www.stata.com\n",
      "                                   979-696-4600        stata@stata.com\n",
      "\n",
      "Stata license: 100-student lab perpetual\n",
      "Serial number: 401706316154\n",
      "  Licensed to: 52mac\n",
      "               www.52mac.com\n",
      "\n",
      "Notes:\n",
      "      1. Unicode is supported; see help unicode_advice.\n",
      "      2. Maximum number of variables is set to 5,000; see help set_maxvar.\n"
     ]
    }
   ],
   "source": [
    "import stata_setup\n",
    "stata_setup.config(\"/Applications/Stata/\", \"se\")\n"
   ]
  },
  {
   "cell_type": "code",
   "execution_count": 16,
   "metadata": {},
   "outputs": [
    {
     "data": {
      "text/plain": [
       "'\\n%%stata\\nsysuse auto, clear\\nsummarize mpg\\nscatter mpg price\\n'"
      ]
     },
     "execution_count": 16,
     "metadata": {},
     "output_type": "execute_result"
    }
   ],
   "source": [
    "'''\n",
    "%%stata\n",
    "sysuse auto, clear\n",
    "summarize mpg\n",
    "scatter mpg price\n",
    "'''\n"
   ]
  },
  {
   "cell_type": "code",
   "execution_count": 23,
   "metadata": {},
   "outputs": [
    {
     "data": {
      "text/html": [
       "<div>\n",
       "<style scoped>\n",
       "    .dataframe tbody tr th:only-of-type {\n",
       "        vertical-align: middle;\n",
       "    }\n",
       "\n",
       "    .dataframe tbody tr th {\n",
       "        vertical-align: top;\n",
       "    }\n",
       "\n",
       "    .dataframe thead th {\n",
       "        text-align: right;\n",
       "    }\n",
       "</style>\n",
       "<table border=\"1\" class=\"dataframe\">\n",
       "  <thead>\n",
       "    <tr style=\"text-align: right;\">\n",
       "      <th></th>\n",
       "      <th>Unnamed: 0</th>\n",
       "      <th>nr</th>\n",
       "      <th>year</th>\n",
       "      <th>black</th>\n",
       "      <th>exper</th>\n",
       "      <th>hisp</th>\n",
       "      <th>hours</th>\n",
       "      <th>married</th>\n",
       "      <th>educ</th>\n",
       "      <th>union</th>\n",
       "      <th>lwage</th>\n",
       "      <th>expersq</th>\n",
       "      <th>occupation</th>\n",
       "    </tr>\n",
       "  </thead>\n",
       "  <tbody>\n",
       "    <tr>\n",
       "      <th>0</th>\n",
       "      <td>0</td>\n",
       "      <td>13</td>\n",
       "      <td>1980</td>\n",
       "      <td>0</td>\n",
       "      <td>1</td>\n",
       "      <td>0</td>\n",
       "      <td>2672</td>\n",
       "      <td>0</td>\n",
       "      <td>14</td>\n",
       "      <td>0</td>\n",
       "      <td>1.1975400</td>\n",
       "      <td>1</td>\n",
       "      <td>9</td>\n",
       "    </tr>\n",
       "    <tr>\n",
       "      <th>1</th>\n",
       "      <td>1</td>\n",
       "      <td>13</td>\n",
       "      <td>1981</td>\n",
       "      <td>0</td>\n",
       "      <td>2</td>\n",
       "      <td>0</td>\n",
       "      <td>2320</td>\n",
       "      <td>0</td>\n",
       "      <td>14</td>\n",
       "      <td>1</td>\n",
       "      <td>1.8530600</td>\n",
       "      <td>4</td>\n",
       "      <td>9</td>\n",
       "    </tr>\n",
       "    <tr>\n",
       "      <th>2</th>\n",
       "      <td>2</td>\n",
       "      <td>13</td>\n",
       "      <td>1982</td>\n",
       "      <td>0</td>\n",
       "      <td>3</td>\n",
       "      <td>0</td>\n",
       "      <td>2940</td>\n",
       "      <td>0</td>\n",
       "      <td>14</td>\n",
       "      <td>0</td>\n",
       "      <td>1.3444620</td>\n",
       "      <td>9</td>\n",
       "      <td>9</td>\n",
       "    </tr>\n",
       "    <tr>\n",
       "      <th>3</th>\n",
       "      <td>3</td>\n",
       "      <td>13</td>\n",
       "      <td>1983</td>\n",
       "      <td>0</td>\n",
       "      <td>4</td>\n",
       "      <td>0</td>\n",
       "      <td>2960</td>\n",
       "      <td>0</td>\n",
       "      <td>14</td>\n",
       "      <td>0</td>\n",
       "      <td>1.4332130</td>\n",
       "      <td>16</td>\n",
       "      <td>9</td>\n",
       "    </tr>\n",
       "    <tr>\n",
       "      <th>4</th>\n",
       "      <td>4</td>\n",
       "      <td>13</td>\n",
       "      <td>1984</td>\n",
       "      <td>0</td>\n",
       "      <td>5</td>\n",
       "      <td>0</td>\n",
       "      <td>3071</td>\n",
       "      <td>0</td>\n",
       "      <td>14</td>\n",
       "      <td>0</td>\n",
       "      <td>1.5681250</td>\n",
       "      <td>25</td>\n",
       "      <td>5</td>\n",
       "    </tr>\n",
       "    <tr>\n",
       "      <th>...</th>\n",
       "      <td>...</td>\n",
       "      <td>...</td>\n",
       "      <td>...</td>\n",
       "      <td>...</td>\n",
       "      <td>...</td>\n",
       "      <td>...</td>\n",
       "      <td>...</td>\n",
       "      <td>...</td>\n",
       "      <td>...</td>\n",
       "      <td>...</td>\n",
       "      <td>...</td>\n",
       "      <td>...</td>\n",
       "      <td>...</td>\n",
       "    </tr>\n",
       "    <tr>\n",
       "      <th>4355</th>\n",
       "      <td>4355</td>\n",
       "      <td>12548</td>\n",
       "      <td>1983</td>\n",
       "      <td>0</td>\n",
       "      <td>8</td>\n",
       "      <td>0</td>\n",
       "      <td>2080</td>\n",
       "      <td>1</td>\n",
       "      <td>9</td>\n",
       "      <td>0</td>\n",
       "      <td>1.5918790</td>\n",
       "      <td>64</td>\n",
       "      <td>5</td>\n",
       "    </tr>\n",
       "    <tr>\n",
       "      <th>4356</th>\n",
       "      <td>4356</td>\n",
       "      <td>12548</td>\n",
       "      <td>1984</td>\n",
       "      <td>0</td>\n",
       "      <td>9</td>\n",
       "      <td>0</td>\n",
       "      <td>2080</td>\n",
       "      <td>1</td>\n",
       "      <td>9</td>\n",
       "      <td>1</td>\n",
       "      <td>1.2125430</td>\n",
       "      <td>81</td>\n",
       "      <td>5</td>\n",
       "    </tr>\n",
       "    <tr>\n",
       "      <th>4357</th>\n",
       "      <td>4357</td>\n",
       "      <td>12548</td>\n",
       "      <td>1985</td>\n",
       "      <td>0</td>\n",
       "      <td>10</td>\n",
       "      <td>0</td>\n",
       "      <td>2080</td>\n",
       "      <td>1</td>\n",
       "      <td>9</td>\n",
       "      <td>0</td>\n",
       "      <td>1.7659620</td>\n",
       "      <td>100</td>\n",
       "      <td>5</td>\n",
       "    </tr>\n",
       "    <tr>\n",
       "      <th>4358</th>\n",
       "      <td>4358</td>\n",
       "      <td>12548</td>\n",
       "      <td>1986</td>\n",
       "      <td>0</td>\n",
       "      <td>11</td>\n",
       "      <td>0</td>\n",
       "      <td>2080</td>\n",
       "      <td>1</td>\n",
       "      <td>9</td>\n",
       "      <td>1</td>\n",
       "      <td>1.7458940</td>\n",
       "      <td>121</td>\n",
       "      <td>5</td>\n",
       "    </tr>\n",
       "    <tr>\n",
       "      <th>4359</th>\n",
       "      <td>4359</td>\n",
       "      <td>12548</td>\n",
       "      <td>1987</td>\n",
       "      <td>0</td>\n",
       "      <td>12</td>\n",
       "      <td>0</td>\n",
       "      <td>3380</td>\n",
       "      <td>1</td>\n",
       "      <td>9</td>\n",
       "      <td>1</td>\n",
       "      <td>1.4665430</td>\n",
       "      <td>144</td>\n",
       "      <td>5</td>\n",
       "    </tr>\n",
       "  </tbody>\n",
       "</table>\n",
       "<p>4360 rows × 13 columns</p>\n",
       "</div>"
      ],
      "text/plain": [
       "      Unnamed: 0     nr  year  black  exper  hisp  hours  married  educ  \\\n",
       "0              0     13  1980      0      1     0   2672        0    14   \n",
       "1              1     13  1981      0      2     0   2320        0    14   \n",
       "2              2     13  1982      0      3     0   2940        0    14   \n",
       "3              3     13  1983      0      4     0   2960        0    14   \n",
       "4              4     13  1984      0      5     0   3071        0    14   \n",
       "...          ...    ...   ...    ...    ...   ...    ...      ...   ...   \n",
       "4355        4355  12548  1983      0      8     0   2080        1     9   \n",
       "4356        4356  12548  1984      0      9     0   2080        1     9   \n",
       "4357        4357  12548  1985      0     10     0   2080        1     9   \n",
       "4358        4358  12548  1986      0     11     0   2080        1     9   \n",
       "4359        4359  12548  1987      0     12     0   3380        1     9   \n",
       "\n",
       "      union     lwage  expersq  occupation  \n",
       "0         0 1.1975400        1           9  \n",
       "1         1 1.8530600        4           9  \n",
       "2         0 1.3444620        9           9  \n",
       "3         0 1.4332130       16           9  \n",
       "4         0 1.5681250       25           5  \n",
       "...     ...       ...      ...         ...  \n",
       "4355      0 1.5918790       64           5  \n",
       "4356      1 1.2125430       81           5  \n",
       "4357      0 1.7659620      100           5  \n",
       "4358      1 1.7458940      121           5  \n",
       "4359      1 1.4665430      144           5  \n",
       "\n",
       "[4360 rows x 13 columns]"
      ]
     },
     "execution_count": 23,
     "metadata": {},
     "output_type": "execute_result"
    }
   ],
   "source": [
    "import pandas as pd\n",
    "import io\n",
    "import requests\n",
    "\n",
    "wagedata = pd.read_csv('wage_panel.csv')\n",
    "wagedata\n"
   ]
  },
  {
   "cell_type": "code",
   "execution_count": 27,
   "metadata": {},
   "outputs": [
    {
     "name": "stderr",
     "output_type": "stream",
     "text": [
      "Exception in thread Stata:\n",
      "Traceback (most recent call last):\n",
      "  File \"/Library/Frameworks/Python.framework/Versions/3.11/lib/python3.11/threading.py\", line 1038, in _bootstrap_inner\n",
      "    self.run()\n",
      "  File \"/Applications/Stata/utilities/pystata/core/stout.py\", line 176, in run\n",
      "    raise SystemError(output)\n",
      "SystemError: \n",
      ". sysuse auto, clear\n",
      "(1978 automobile data)\n",
      "\n",
      ". summarize wagedata\n",
      "variable wagedata not found\n",
      "r(111);\n",
      "r(111);\n",
      "\n"
     ]
    }
   ],
   "source": [
    "%%stata\n",
    "sysuse auto, clear\n",
    "summarize wagedata"
   ]
  },
  {
   "cell_type": "code",
   "execution_count": 28,
   "metadata": {},
   "outputs": [
    {
     "name": "stdout",
     "output_type": "stream",
     "text": [
      "\n",
      ". xtset nr year\n",
      "\n",
      "Panel variable: nr (strongly balanced)\n",
      " Time variable: year, 1980 to 1987\n",
      "         Delta: 1 unit\n",
      "\n",
      ". xtreg lwage expersq married union i.year, fe vce(cluster nr)\n",
      "\n",
      "Fixed-effects (within) regression               Number of obs     =      4,360\n",
      "Group variable: nr                              Number of groups  =        545\n",
      "\n",
      "R-squared:                                      Obs per group:\n",
      "     Within  = 0.1806                                         min =          8\n",
      "     Between = 0.0286                                         avg =        8.0\n",
      "     Overall = 0.0888                                         max =          8\n",
      "\n",
      "                                                F(10,544)         =      46.59\n",
      "corr(u_i, Xb) = -0.1222                         Prob > F          =     0.0000\n",
      "\n",
      "                                   (Std. err. adjusted for 545 clusters in nr)\n",
      "------------------------------------------------------------------------------\n",
      "             |               Robust\n",
      "       lwage | Coefficient  std. err.      t    P>|t|     [95% conf. interval]\n",
      "-------------+----------------------------------------------------------------\n",
      "     expersq |  -.0051855   .0008102    -6.40   0.000    -.0067771   -.0035939\n",
      "     married |   .0466804   .0210038     2.22   0.027     .0054218    .0879389\n",
      "       union |   .0800019   .0227431     3.52   0.000     .0353268    .1246769\n",
      "             |\n",
      "        year |\n",
      "       1981  |   .1511912   .0255648     5.91   0.000     .1009733    .2014091\n",
      "       1982  |   .2529709   .0286624     8.83   0.000     .1966684    .3092734\n",
      "       1983  |   .3544437   .0348608    10.17   0.000     .2859655     .422922\n",
      "       1984  |   .4901148   .0454581    10.78   0.000     .4008199    .5794097\n",
      "       1985  |   .6174822   .0568088    10.87   0.000     .5058908    .7290737\n",
      "       1986  |   .7654965    .071244    10.74   0.000     .6255495    .9054436\n",
      "       1987  |   .9250249   .0840563    11.00   0.000     .7599103     1.09014\n",
      "             |\n",
      "       _cons |   1.426019   .0209824    67.96   0.000     1.384802    1.467235\n",
      "-------------+----------------------------------------------------------------\n",
      "     sigma_u |  .39176195\n",
      "     sigma_e |  .35099001\n",
      "         rho |  .55472816   (fraction of variance due to u_i)\n",
      "------------------------------------------------------------------------------\n",
      "\n",
      ". ereturn list\n",
      "\n",
      "scalars:\n",
      "               e(r2_w) =  .1805775558138392\n",
      "               e(rank) =  10\n",
      "               e(Tbar) =  8\n",
      "               e(Tcon) =  1\n",
      "              e(g_min) =  8\n",
      "              e(g_avg) =  8\n",
      "              e(g_max) =  8\n",
      "                e(N_g) =  545\n",
      "            e(sigma_u) =  .3917619486229635\n",
      "               e(corr) =  -.1221903838232927\n",
      "               e(r2_o) =  .0888092876922999\n",
      "               e(r2_b) =  .0285577994947778\n",
      "            e(sigma_e) =  .3509900140467166\n",
      "              e(sigma) =  .5259956409984552\n",
      "                e(rho) =  .5547281592129099\n",
      "                  e(p) =  9.13275057677e-67\n",
      "               e(df_m) =  9\n",
      "               e(df_b) =  10\n",
      "                  e(F) =  46.58655964738664\n",
      "               e(ll_0) =  -1759.001695603983\n",
      "                 e(ll) =  -1324.842654933013\n",
      "                e(tss) =  1236.529619320859\n",
      "               e(df_a) =  544\n",
      "               e(r2_a) =  .1786933929161933\n",
      "                e(rss) =  468.7531317997569\n",
      "                e(mss) =  103.2999467137516\n",
      "               e(rmse) =  .3283049171150526\n",
      "                 e(r2) =  .1805775558138392\n",
      "               e(df_r) =  544\n",
      "                  e(N) =  4360\n",
      "            e(N_clust) =  545\n",
      "\n",
      "macros:\n",
      "            e(cmdline) : \"xtreg lwage expersq married union i.year, fe vce(..\"\n",
      "                e(cmd) : \"xtreg\"\n",
      "       e(marginsnotok) : \"E U UE SCore STDP XBU\"\n",
      "            e(predict) : \"xtrefe_p\"\n",
      "              e(model) : \"fe\"\n",
      "                e(vce) : \"cluster\"\n",
      "               e(ivar) : \"nr\"\n",
      "             e(depvar) : \"lwage\"\n",
      "         e(properties) : \"b V\"\n",
      "            e(vcetype) : \"Robust\"\n",
      "           e(clustvar) : \"nr\"\n",
      "\n",
      "matrices:\n",
      "                  e(b) :  1 x 12\n",
      "                  e(V) :  12 x 12\n",
      "       e(V_modelbased) :  12 x 12\n",
      "\n",
      "functions:\n",
      "             e(sample)   \n",
      "\n",
      ". \n"
     ]
    }
   ],
   "source": [
    "%%stata -d wagedata -eret myeret\n",
    "xtset nr year\n",
    "xtreg lwage expersq married union i.year, fe vce(cluster nr)\n",
    "ereturn list\n"
   ]
  },
  {
   "cell_type": "markdown",
   "metadata": {},
   "source": [
    "————————————————————————————————————————————————————————————————————————————————————————————————————————————"
   ]
  },
  {
   "cell_type": "code",
   "execution_count": null,
   "metadata": {},
   "outputs": [],
   "source": [
    "data = wage_panel.load()\n",
    "data"
   ]
  },
  {
   "cell_type": "code",
   "execution_count": null,
   "metadata": {},
   "outputs": [],
   "source": [
    "# data.to_csv(\"wage_panel.csv\")"
   ]
  },
  {
   "cell_type": "code",
   "execution_count": null,
   "metadata": {},
   "outputs": [],
   "source": [
    "# Convert the year into categorical type\n",
    "year = pd.Categorical(data.year)\n",
    "\n",
    "data = data.set_index(['nr','year'])"
   ]
  },
  {
   "cell_type": "code",
   "execution_count": null,
   "metadata": {},
   "outputs": [],
   "source": [
    "data[\"year\"] = year\n",
    "data.info()"
   ]
  },
  {
   "cell_type": "code",
   "execution_count": null,
   "metadata": {},
   "outputs": [],
   "source": [
    "print(wage_panel.DESCR)\n",
    "print(data.head())"
   ]
  },
  {
   "cell_type": "markdown",
   "metadata": {},
   "source": [
    "### 1.1 Descriptive Statistics"
   ]
  },
  {
   "cell_type": "code",
   "execution_count": null,
   "metadata": {},
   "outputs": [],
   "source": [
    "data.describe()"
   ]
  },
  {
   "cell_type": "code",
   "execution_count": null,
   "metadata": {},
   "outputs": [],
   "source": [
    "print(data.columns)"
   ]
  },
  {
   "cell_type": "code",
   "execution_count": null,
   "metadata": {},
   "outputs": [],
   "source": [
    "# Draw the Correlation heatmap\n",
    "import seaborn as sns\n",
    "import matplotlib.pyplot as plt\n",
    "\n",
    "# set the font size of the heatmap\n",
    "sns.set(font_scale=0.6)\n",
    "sns.heatmap(data.corr(), annot=True, cmap='coolwarm', center=0)\n",
    "plt.show()"
   ]
  },
  {
   "cell_type": "markdown",
   "metadata": {},
   "source": [
    "### 1.2 Basic Regression (Pooled OLS) on Panel Data"
   ]
  },
  {
   "cell_type": "markdown",
   "metadata": {},
   "source": [
    "- PooledOLS is just plain OLS that understands that various panel data structures. It is useful as a base model\n",
    "\n",
    "$$\n",
    "y_{it} = \\beta x_{it} + (\\alpha + \\epsilon_{it})\n",
    "$$"
   ]
  },
  {
   "cell_type": "code",
   "execution_count": null,
   "metadata": {},
   "outputs": [],
   "source": [
    "# Determine the exogenous variables\n",
    "exog_vars = [\"black\", \"hisp\", \"exper\", \"expersq\", \"married\", \"educ\", \"union\", \"year\"]\n",
    "exog = sm.add_constant(data[exog_vars])\n",
    "model = PooledOLS(data.lwage, exog)\n",
    "pooled_res = model.fit()\n",
    "print(pooled_res)"
   ]
  },
  {
   "cell_type": "markdown",
   "metadata": {},
   "source": [
    "### 1.3 Entity Effect"
   ]
  },
  {
   "cell_type": "markdown",
   "metadata": {},
   "source": [
    "When modeling panel data it is common to consider models beyond what OLS will efficiently estimate. The most common are error component models which add an additional term to the standard OLS model,\n",
    "\n",
    "$$\n",
    "y_{it} = \\beta x_{it} + \\alpha_i + \\epsilon_{it}\n",
    "$$\n",
    "\n",
    "where $\\alpha_i$ affects all values of entity i. \n",
    "\n",
    "When the $\\alpha_i$ are uncorrelated with the regressors in $x_{it}$ , \n",
    "\n",
    "a random effects model can be used to efficiently estimate parameters of this model."
   ]
  },
  {
   "cell_type": "markdown",
   "metadata": {},
   "source": [
    "#### 1.3.1 Random Effect\n",
    "\n",
    "The random effects model is <font color = \"red\"> virtually identical to the pooled OLS model </font>  <font color = \"orange\">except that is accounts for the structure of the model and so is more efficient </font>. Random effects uses a quasi-demeaning strategy which subtracts the time average of the within entity values to account for the common shock."
   ]
  },
  {
   "cell_type": "code",
   "execution_count": null,
   "metadata": {},
   "outputs": [],
   "source": [
    "from linearmodels import RandomEffects\n",
    "\n",
    "mod = RandomEffects(data.lwage, exog)\n",
    "re_res = mod.fit()\n",
    "print(re_res)"
   ]
  },
  {
   "cell_type": "markdown",
   "metadata": {},
   "source": [
    "- The model fit is fairly similar, although the return to experience has changed substantially, as has its significance. \n",
    "\n",
    "- <font color = \"orange\"> This is partially explainable by the inclusion of the year dummies </font> which will fit the trend in experience and so only the cross-sectional differences matter. \n",
    "\n",
    "- The quasi-differencing in the random effects estimator depends on a quantity that depends on the relative variance of the idiosyncratic shock and the common shock. \n",
    "\n",
    "- This can be accessed using variance_decomposition."
   ]
  },
  {
   "cell_type": "code",
   "execution_count": null,
   "metadata": {},
   "outputs": [],
   "source": [
    "print(re_res.variance_decomposition)\n",
    "re_res.theta.head()"
   ]
  },
  {
   "cell_type": "markdown",
   "metadata": {},
   "source": [
    "The coefficient $\\theta_i$ determines how much demeaning takes place. When this value is 1, the RE model reduces to the pooled model since this occurs when there is no variance in the effects. When panels are unbalanced it will vary across entities, but in this balanced panel all values are the same."
   ]
  },
  {
   "cell_type": "markdown",
   "metadata": {},
   "source": [
    "#### 1.3.2 Between Estimator "
   ]
  },
  {
   "cell_type": "markdown",
   "metadata": {},
   "source": [
    "The between estimator is an alternative, usually less efficient estimator, can can be used to estimate model parameters. \n",
    "\n",
    "It is particular simple since it first computes the time averages of y and x and then runs a simple regression using these averages.\n",
    "\n",
    "The year dummies are dropped since the averaging removes differences due to the year. expersq was also dropped since it is fairly co-linear with exper. These results are broadly similar to the previous models."
   ]
  },
  {
   "cell_type": "code",
   "execution_count": null,
   "metadata": {},
   "outputs": [],
   "source": [
    "exog_vars = [\"black\",\"hisp\",\"exper\",\"married\",\"educ\",\"union\"]\n",
    "exog = sm.add_constant(data[exog_vars])\n",
    "mod = BetweenOLS(data.lwage, exog)\n",
    "be_res = mod.fit()\n",
    "print(be_res)"
   ]
  },
  {
   "cell_type": "markdown",
   "metadata": {},
   "source": [
    "### 1.3.3 Entity effect\n",
    "Entity effects are included by setting entity_effects=True. This is equivalent to including dummies for each entity. In this panel, this would add 545 dummy variables and estimation of the model would be considerably slower. PanelOLS does not actually use dummy variables and instead uses group-wise demeaning to achieve the same effec"
   ]
  },
  {
   "cell_type": "code",
   "execution_count": null,
   "metadata": {},
   "outputs": [],
   "source": [
    "exog_vars = [\"expersq\", \"union\", \"married\", \"year\"]\n",
    "exog = sm.add_constant(data[exog_vars])\n",
    "mod = PanelOLS(data.lwage, exog, entity_effects=True)\n",
    "fe_res = mod.fit()\n",
    "print(fe_res)"
   ]
  },
  {
   "cell_type": "markdown",
   "metadata": {},
   "source": [
    "### 1.3.4 Time Effect\n",
    "\n",
    "Time effect can be added using time_effects=True. Here the time dummies are removed. Note that the core coefficients are identical. The only change is in the test statistic for poolability since not the “effects” include both entity and time, whereas before only entity were included."
   ]
  },
  {
   "cell_type": "code",
   "execution_count": null,
   "metadata": {},
   "outputs": [],
   "source": [
    "exog_vars = [\"expersq\", \"union\", \"married\"]\n",
    "exog = sm.add_constant(data[exog_vars])\n",
    "mod = PanelOLS(data.lwage, exog, entity_effects=True, time_effects=True)\n",
    "fe_te_res = mod.fit()\n",
    "print(fe_te_res)"
   ]
  },
  {
   "cell_type": "markdown",
   "metadata": {},
   "source": [
    "## 1.4 First Differences\n",
    "\n",
    "First differencing is an alternative to using fixed effects when there might be correlation. When using first differences, time-invariant variables must be excluded. Additionally, only one linear time-trending variable can be included since this will look like a constant. This variable will soak up all time-trends in the data, and so interpretations of these variable can be challenging."
   ]
  },
  {
   "cell_type": "code",
   "execution_count": null,
   "metadata": {},
   "outputs": [],
   "source": [
    "from linearmodels.panel import FirstDifferenceOLS\n",
    "\n",
    "exog_vars = [\"exper\", \"expersq\", \"union\", \"married\"]\n",
    "exog = data[exog_vars]\n",
    "mod = FirstDifferenceOLS(data.lwage, exog)\n",
    "fd_res = mod.fit()\n",
    "print(fd_res)"
   ]
  },
  {
   "cell_type": "markdown",
   "metadata": {},
   "source": [
    "## 1.5 Comparing Models"
   ]
  },
  {
   "cell_type": "markdown",
   "metadata": {},
   "source": [
    "Model results can be compared using *compare*. compare accepts lists of results, a dictionary of results where the key is interpreted as the model name."
   ]
  },
  {
   "cell_type": "code",
   "execution_count": null,
   "metadata": {},
   "outputs": [],
   "source": [
    "from linearmodels.panel import compare\n",
    "\n",
    "print(compare({\"BE\": be_res, \"RE\": re_res, \"Pooled\": pooled_res}))"
   ]
  },
  {
   "cell_type": "markdown",
   "metadata": {},
   "source": [
    "## 1.6 Covariance Options\n",
    "\n",
    "### 1.6.1 Heteroskedasticity Robust Covariance\n",
    "White”s robust covariance can be used by setting cov_type=\"robust. This estimator adds some robustness against certain types of specification issues but should not be used when using fixed effects (entity effects) since it is no longer robust. Instead a clustered covariance is required."
   ]
  },
  {
   "cell_type": "code",
   "execution_count": null,
   "metadata": {},
   "outputs": [],
   "source": [
    "exog_vars = [\"expersq\", \"married\", \"union\"]\n",
    "exog = sm.add_constant(data[exog_vars])\n",
    "mod = PanelOLS(data.lwage, exog, entity_effects=True, time_effects=True)\n",
    "robust = mod.fit(cov_type=\"robust\")\n",
    "none = mod.fit()\n",
    "print(robust)\n",
    "print(compare({\"Roubst\": robust, \"None\": none}))\n"
   ]
  },
  {
   "cell_type": "markdown",
   "metadata": {},
   "source": [
    "## 1.6.2 Clustered by Entity\n",
    "\n",
    "The usual variable to cluster are are entity or entity and time. The can be implemented using cov_type=\"clustered\" and the additional keyword arguments cluster_entity=True and/or cluster_time=True."
   ]
  },
  {
   "cell_type": "code",
   "execution_count": null,
   "metadata": {},
   "outputs": [],
   "source": [
    "clust_entity = mod.fit(cov_type=\"clustered\", cluster_entity=True)\n",
    "print(clust_entity)"
   ]
  },
  {
   "cell_type": "code",
   "execution_count": null,
   "metadata": {},
   "outputs": [],
   "source": [
    "clust_entity_time = mod.fit(\n",
    "    cov_type=\"clustered\", cluster_entity=True, cluster_time=True\n",
    ")\n",
    "print(clust_entity_time)"
   ]
  },
  {
   "cell_type": "markdown",
   "metadata": {},
   "source": [
    "## 1.6.3 Use \"OrderedDict\" to compare the models"
   ]
  },
  {
   "cell_type": "code",
   "execution_count": null,
   "metadata": {},
   "outputs": [],
   "source": [
    "from collections import OrderedDict\n",
    "\n",
    "res = OrderedDict()\n",
    "res[\"Robust\"] = robust\n",
    "res[\"Entity\"] = clust_entity\n",
    "res[\"Entity - Time\"] = clust_entity_time\n",
    "print(compare(res))"
   ]
  },
  {
   "cell_type": "markdown",
   "metadata": {},
   "source": [
    "## 1.6.4 Other Clusters \n",
    "Other clusters can be used by directly passing integer arrays (1 or 2 columns, or a 1-d array) using the input clusters. This example clustered by occupation, which is probably not a reliable variable to cluster on since there are only 9 groups and the usual theory for clustered standard errors requires that the number of clusters is large."
   ]
  },
  {
   "cell_type": "code",
   "execution_count": null,
   "metadata": {},
   "outputs": [],
   "source": [
    "clust_entity = mod.fit(cov_type=\"clustered\", clusters=data.occupation)\n",
    "print(data.occupation.value_counts())\n",
    "print(clust_entity)"
   ]
  },
  {
   "cell_type": "markdown",
   "metadata": {},
   "source": [
    "## 2. Grunfeld data \n",
    "using formulas to specify models"
   ]
  },
  {
   "cell_type": "markdown",
   "metadata": {},
   "source": [
    "    invest  - Gross investment in 1947 dollars\n",
    "    value   - Market value as of Dec. 31 in 1947 dollars\n",
    "    capital - Stock of plant and equipment in 1947 dollars\n",
    "    firm    - General Motors, US Steel, General Electric, Chrysler,\n",
    "            Atlantic Refining, IBM, Union Oil, Westinghouse, Goodyear,\n",
    "            Diamond Match, American Steel\n",
    "    year    - 1935 - 1954"
   ]
  },
  {
   "cell_type": "code",
   "execution_count": null,
   "metadata": {},
   "outputs": [],
   "source": [
    "# Load data\n",
    "from statsmodels.datasets import grunfeld\n",
    "data = grunfeld.load_pandas().data\n",
    "data.to_csv('grunfeld.csv')"
   ]
  },
  {
   "cell_type": "code",
   "execution_count": null,
   "metadata": {},
   "outputs": [],
   "source": [
    "# reset the index\n",
    "data = data.set_index(['firm','year'])"
   ]
  },
  {
   "cell_type": "markdown",
   "metadata": {},
   "source": [
    "### PanelOLS with Entity Effects¶\n",
    "\n",
    "Entity effects are specified using the special command EntityEffects. By default a constant is not included, and so if a constant is desired, 1+ should be included in the formula. When including effects, the model and fit are identical whether a constant is included or not."
   ]
  },
  {
   "cell_type": "code",
   "execution_count": null,
   "metadata": {},
   "outputs": [],
   "source": [
    "### No Constant\n",
    "mod = PanelOLS.from_formula(\"invest ~ value + capital + EntityEffects\", data = data)\n",
    "print(mod.fit())"
   ]
  },
  {
   "cell_type": "code",
   "execution_count": null,
   "metadata": {},
   "outputs": [],
   "source": [
    "### Add Constant\n",
    "mod = PanelOLS.from_formula(\"invest ~ 1 + value + capital + EntityEffects\", data = data)\n",
    "print(mod.fit())"
   ]
  },
  {
   "cell_type": "markdown",
   "metadata": {},
   "source": [
    "### PanelOLS with Entity Effects & Time Effects\n",
    "\n",
    "Time effects can be similarly included using *TimeEffects*. In many models, time effects can be consistently estimated and so they could be equivalently included in the set of regressors using a categorical variable."
   ]
  },
  {
   "cell_type": "code",
   "execution_count": null,
   "metadata": {},
   "outputs": [],
   "source": [
    "mod = PanelOLS.from_formula(\n",
    "    \"invest ~ 1 + value + capital + EntityEffects + TimeEffects\", data = data\n",
    ")\n",
    "print(mod.fit())"
   ]
  },
  {
   "cell_type": "markdown",
   "metadata": {},
   "source": [
    "### Between OLS"
   ]
  },
  {
   "cell_type": "code",
   "execution_count": null,
   "metadata": {},
   "outputs": [],
   "source": [
    "mod = BetweenOLS.from_formula(\"invest ~ 1 + value + capital\", data=data)\n",
    "print(mod.fit())"
   ]
  },
  {
   "cell_type": "markdown",
   "metadata": {},
   "source": [
    "### First Difference OLS"
   ]
  },
  {
   "cell_type": "code",
   "execution_count": null,
   "metadata": {},
   "outputs": [],
   "source": [
    "mod = FirstDifferenceOLS.from_formula(\"invest ~ value + capital\", data=data)\n",
    "print(mod.fit())"
   ]
  },
  {
   "cell_type": "markdown",
   "metadata": {},
   "source": [
    "### Pooled OLS"
   ]
  },
  {
   "cell_type": "markdown",
   "metadata": {},
   "source": [
    "The pooled OLS estimator is a special case of PanelOLS when there are no effects. It is effectively identical to OLS in statsmodels (or WLS) but is included for completeness."
   ]
  },
  {
   "cell_type": "code",
   "execution_count": null,
   "metadata": {},
   "outputs": [],
   "source": [
    "mod = PooledOLS.from_formula(\"invest ~ 1 + value + capital\", data = data)\n",
    "print(mod.fit())"
   ]
  }
 ],
 "metadata": {
  "kernelspec": {
   "display_name": "Python 3",
   "language": "python",
   "name": "python3"
  },
  "language_info": {
   "codemirror_mode": {
    "name": "ipython",
    "version": 3
   },
   "file_extension": ".py",
   "mimetype": "text/x-python",
   "name": "python",
   "nbconvert_exporter": "python",
   "pygments_lexer": "ipython3",
   "version": "3.11.2"
  },
  "orig_nbformat": 4
 },
 "nbformat": 4,
 "nbformat_minor": 2
}
