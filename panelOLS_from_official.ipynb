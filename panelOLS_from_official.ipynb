{
 "cells": [
  {
   "cell_type": "markdown",
   "metadata": {},
   "source": [
    "### Official Websites (Examples)\n",
    "https://bashtage.github.io/linearmodels/panel/index.html"
   ]
  },
  {
   "cell_type": "markdown",
   "metadata": {},
   "source": [
    "### Official Github (Examples)\n",
    "\n",
    "https://github.com/bashtage/linearmodels/blob/main/README.md"
   ]
  },
  {
   "cell_type": "markdown",
   "metadata": {},
   "source": [
    "## 1. Wage (Wage ~ Experience)"
   ]
  },
  {
   "cell_type": "code",
   "execution_count": 10,
   "metadata": {},
   "outputs": [],
   "source": [
    "from linearmodels.panel import PanelOLS\n",
    "from linearmodels.datasets import wage_panel\n",
    "import statsmodels.api as sm\n",
    "from linearmodels import BetweenOLS, FirstDifferenceOLS, PooledOLS\n",
    "import pandas as pd\n",
    "\n",
    "pd.set_option('display.float_format', lambda x:'%.3f' % x)"
   ]
  },
  {
   "cell_type": "code",
   "execution_count": 2,
   "metadata": {},
   "outputs": [
    {
     "data": {
      "text/html": [
       "<div>\n",
       "<style scoped>\n",
       "    .dataframe tbody tr th:only-of-type {\n",
       "        vertical-align: middle;\n",
       "    }\n",
       "\n",
       "    .dataframe tbody tr th {\n",
       "        vertical-align: top;\n",
       "    }\n",
       "\n",
       "    .dataframe thead th {\n",
       "        text-align: right;\n",
       "    }\n",
       "</style>\n",
       "<table border=\"1\" class=\"dataframe\">\n",
       "  <thead>\n",
       "    <tr style=\"text-align: right;\">\n",
       "      <th></th>\n",
       "      <th>nr</th>\n",
       "      <th>year</th>\n",
       "      <th>black</th>\n",
       "      <th>exper</th>\n",
       "      <th>hisp</th>\n",
       "      <th>hours</th>\n",
       "      <th>married</th>\n",
       "      <th>educ</th>\n",
       "      <th>union</th>\n",
       "      <th>lwage</th>\n",
       "      <th>expersq</th>\n",
       "      <th>occupation</th>\n",
       "    </tr>\n",
       "  </thead>\n",
       "  <tbody>\n",
       "    <tr>\n",
       "      <th>0</th>\n",
       "      <td>13</td>\n",
       "      <td>1980</td>\n",
       "      <td>0</td>\n",
       "      <td>1</td>\n",
       "      <td>0</td>\n",
       "      <td>2672</td>\n",
       "      <td>0</td>\n",
       "      <td>14</td>\n",
       "      <td>0</td>\n",
       "      <td>1.197540</td>\n",
       "      <td>1</td>\n",
       "      <td>9</td>\n",
       "    </tr>\n",
       "    <tr>\n",
       "      <th>1</th>\n",
       "      <td>13</td>\n",
       "      <td>1981</td>\n",
       "      <td>0</td>\n",
       "      <td>2</td>\n",
       "      <td>0</td>\n",
       "      <td>2320</td>\n",
       "      <td>0</td>\n",
       "      <td>14</td>\n",
       "      <td>1</td>\n",
       "      <td>1.853060</td>\n",
       "      <td>4</td>\n",
       "      <td>9</td>\n",
       "    </tr>\n",
       "    <tr>\n",
       "      <th>2</th>\n",
       "      <td>13</td>\n",
       "      <td>1982</td>\n",
       "      <td>0</td>\n",
       "      <td>3</td>\n",
       "      <td>0</td>\n",
       "      <td>2940</td>\n",
       "      <td>0</td>\n",
       "      <td>14</td>\n",
       "      <td>0</td>\n",
       "      <td>1.344462</td>\n",
       "      <td>9</td>\n",
       "      <td>9</td>\n",
       "    </tr>\n",
       "    <tr>\n",
       "      <th>3</th>\n",
       "      <td>13</td>\n",
       "      <td>1983</td>\n",
       "      <td>0</td>\n",
       "      <td>4</td>\n",
       "      <td>0</td>\n",
       "      <td>2960</td>\n",
       "      <td>0</td>\n",
       "      <td>14</td>\n",
       "      <td>0</td>\n",
       "      <td>1.433213</td>\n",
       "      <td>16</td>\n",
       "      <td>9</td>\n",
       "    </tr>\n",
       "    <tr>\n",
       "      <th>4</th>\n",
       "      <td>13</td>\n",
       "      <td>1984</td>\n",
       "      <td>0</td>\n",
       "      <td>5</td>\n",
       "      <td>0</td>\n",
       "      <td>3071</td>\n",
       "      <td>0</td>\n",
       "      <td>14</td>\n",
       "      <td>0</td>\n",
       "      <td>1.568125</td>\n",
       "      <td>25</td>\n",
       "      <td>5</td>\n",
       "    </tr>\n",
       "    <tr>\n",
       "      <th>...</th>\n",
       "      <td>...</td>\n",
       "      <td>...</td>\n",
       "      <td>...</td>\n",
       "      <td>...</td>\n",
       "      <td>...</td>\n",
       "      <td>...</td>\n",
       "      <td>...</td>\n",
       "      <td>...</td>\n",
       "      <td>...</td>\n",
       "      <td>...</td>\n",
       "      <td>...</td>\n",
       "      <td>...</td>\n",
       "    </tr>\n",
       "    <tr>\n",
       "      <th>4355</th>\n",
       "      <td>12548</td>\n",
       "      <td>1983</td>\n",
       "      <td>0</td>\n",
       "      <td>8</td>\n",
       "      <td>0</td>\n",
       "      <td>2080</td>\n",
       "      <td>1</td>\n",
       "      <td>9</td>\n",
       "      <td>0</td>\n",
       "      <td>1.591879</td>\n",
       "      <td>64</td>\n",
       "      <td>5</td>\n",
       "    </tr>\n",
       "    <tr>\n",
       "      <th>4356</th>\n",
       "      <td>12548</td>\n",
       "      <td>1984</td>\n",
       "      <td>0</td>\n",
       "      <td>9</td>\n",
       "      <td>0</td>\n",
       "      <td>2080</td>\n",
       "      <td>1</td>\n",
       "      <td>9</td>\n",
       "      <td>1</td>\n",
       "      <td>1.212543</td>\n",
       "      <td>81</td>\n",
       "      <td>5</td>\n",
       "    </tr>\n",
       "    <tr>\n",
       "      <th>4357</th>\n",
       "      <td>12548</td>\n",
       "      <td>1985</td>\n",
       "      <td>0</td>\n",
       "      <td>10</td>\n",
       "      <td>0</td>\n",
       "      <td>2080</td>\n",
       "      <td>1</td>\n",
       "      <td>9</td>\n",
       "      <td>0</td>\n",
       "      <td>1.765962</td>\n",
       "      <td>100</td>\n",
       "      <td>5</td>\n",
       "    </tr>\n",
       "    <tr>\n",
       "      <th>4358</th>\n",
       "      <td>12548</td>\n",
       "      <td>1986</td>\n",
       "      <td>0</td>\n",
       "      <td>11</td>\n",
       "      <td>0</td>\n",
       "      <td>2080</td>\n",
       "      <td>1</td>\n",
       "      <td>9</td>\n",
       "      <td>1</td>\n",
       "      <td>1.745894</td>\n",
       "      <td>121</td>\n",
       "      <td>5</td>\n",
       "    </tr>\n",
       "    <tr>\n",
       "      <th>4359</th>\n",
       "      <td>12548</td>\n",
       "      <td>1987</td>\n",
       "      <td>0</td>\n",
       "      <td>12</td>\n",
       "      <td>0</td>\n",
       "      <td>3380</td>\n",
       "      <td>1</td>\n",
       "      <td>9</td>\n",
       "      <td>1</td>\n",
       "      <td>1.466543</td>\n",
       "      <td>144</td>\n",
       "      <td>5</td>\n",
       "    </tr>\n",
       "  </tbody>\n",
       "</table>\n",
       "<p>4360 rows × 12 columns</p>\n",
       "</div>"
      ],
      "text/plain": [
       "         nr  year  black  exper  hisp  hours  married  educ  union     lwage  \\\n",
       "0        13  1980      0      1     0   2672        0    14      0  1.197540   \n",
       "1        13  1981      0      2     0   2320        0    14      1  1.853060   \n",
       "2        13  1982      0      3     0   2940        0    14      0  1.344462   \n",
       "3        13  1983      0      4     0   2960        0    14      0  1.433213   \n",
       "4        13  1984      0      5     0   3071        0    14      0  1.568125   \n",
       "...     ...   ...    ...    ...   ...    ...      ...   ...    ...       ...   \n",
       "4355  12548  1983      0      8     0   2080        1     9      0  1.591879   \n",
       "4356  12548  1984      0      9     0   2080        1     9      1  1.212543   \n",
       "4357  12548  1985      0     10     0   2080        1     9      0  1.765962   \n",
       "4358  12548  1986      0     11     0   2080        1     9      1  1.745894   \n",
       "4359  12548  1987      0     12     0   3380        1     9      1  1.466543   \n",
       "\n",
       "      expersq  occupation  \n",
       "0           1           9  \n",
       "1           4           9  \n",
       "2           9           9  \n",
       "3          16           9  \n",
       "4          25           5  \n",
       "...       ...         ...  \n",
       "4355       64           5  \n",
       "4356       81           5  \n",
       "4357      100           5  \n",
       "4358      121           5  \n",
       "4359      144           5  \n",
       "\n",
       "[4360 rows x 12 columns]"
      ]
     },
     "execution_count": 2,
     "metadata": {},
     "output_type": "execute_result"
    }
   ],
   "source": [
    "data = wage_panel.load()\n",
    "data"
   ]
  },
  {
   "cell_type": "code",
   "execution_count": null,
   "metadata": {},
   "outputs": [],
   "source": [
    "# data.to_csv(\"wage_panel.csv\")"
   ]
  },
  {
   "cell_type": "code",
   "execution_count": 3,
   "metadata": {},
   "outputs": [],
   "source": [
    "# Convert the year into categorical type\n",
    "year = pd.Categorical(data.year)\n",
    "\n",
    "data = data.set_index(['nr','year'])"
   ]
  },
  {
   "cell_type": "code",
   "execution_count": 5,
   "metadata": {},
   "outputs": [
    {
     "name": "stdout",
     "output_type": "stream",
     "text": [
      "<class 'pandas.core.frame.DataFrame'>\n",
      "MultiIndex: 4360 entries, (13, 1980) to (12548, 1987)\n",
      "Data columns (total 11 columns):\n",
      " #   Column      Non-Null Count  Dtype   \n",
      "---  ------      --------------  -----   \n",
      " 0   black       4360 non-null   int64   \n",
      " 1   exper       4360 non-null   int64   \n",
      " 2   hisp        4360 non-null   int64   \n",
      " 3   hours       4360 non-null   int64   \n",
      " 4   married     4360 non-null   int64   \n",
      " 5   educ        4360 non-null   int64   \n",
      " 6   union       4360 non-null   int64   \n",
      " 7   lwage       4360 non-null   float64 \n",
      " 8   expersq     4360 non-null   int64   \n",
      " 9   occupation  4360 non-null   int64   \n",
      " 10  year        4360 non-null   category\n",
      "dtypes: category(1), float64(1), int64(9)\n",
      "memory usage: 378.9 KB\n"
     ]
    }
   ],
   "source": [
    "data[\"year\"] = year\n",
    "data.info()"
   ]
  },
  {
   "cell_type": "code",
   "execution_count": 6,
   "metadata": {},
   "outputs": [
    {
     "name": "stdout",
     "output_type": "stream",
     "text": [
      "\n",
      "F. Vella and M. Verbeek (1998), \"Whose Wages Do Unions Raise? A Dynamic Model\n",
      "of Unionism and Wage Rate Determination for Young Men,\" Journal of Applied\n",
      "Econometrics 13, 163-183.\n",
      "\n",
      "nr                       person identifier\n",
      "year                     1980 to 1987\n",
      "black                    =1 if black\n",
      "exper                    labor market experience\n",
      "hisp                     =1 if Hispanic\n",
      "hours                    annual hours worked\n",
      "married                  =1 if married\n",
      "educ                     years of schooling\n",
      "union                    =1 if in union\n",
      "lwage                    log(wage)\n",
      "expersq                  exper^2\n",
      "occupation               Occupation code\n",
      "\n",
      "         black  exper  hisp  hours  married  educ  union     lwage  expersq  \\\n",
      "nr year                                                                       \n",
      "13 1980      0      1     0   2672        0    14      0  1.197540        1   \n",
      "   1981      0      2     0   2320        0    14      1  1.853060        4   \n",
      "   1982      0      3     0   2940        0    14      0  1.344462        9   \n",
      "   1983      0      4     0   2960        0    14      0  1.433213       16   \n",
      "   1984      0      5     0   3071        0    14      0  1.568125       25   \n",
      "\n",
      "         occupation  year  \n",
      "nr year                    \n",
      "13 1980           9  1980  \n",
      "   1981           9  1981  \n",
      "   1982           9  1982  \n",
      "   1983           9  1983  \n",
      "   1984           5  1984  \n"
     ]
    }
   ],
   "source": [
    "print(wage_panel.DESCR)\n",
    "print(data.head())"
   ]
  },
  {
   "cell_type": "markdown",
   "metadata": {},
   "source": [
    "### 1.1 Descriptive Statistics"
   ]
  },
  {
   "cell_type": "code",
   "execution_count": 11,
   "metadata": {},
   "outputs": [
    {
     "data": {
      "text/html": [
       "<div>\n",
       "<style scoped>\n",
       "    .dataframe tbody tr th:only-of-type {\n",
       "        vertical-align: middle;\n",
       "    }\n",
       "\n",
       "    .dataframe tbody tr th {\n",
       "        vertical-align: top;\n",
       "    }\n",
       "\n",
       "    .dataframe thead th {\n",
       "        text-align: right;\n",
       "    }\n",
       "</style>\n",
       "<table border=\"1\" class=\"dataframe\">\n",
       "  <thead>\n",
       "    <tr style=\"text-align: right;\">\n",
       "      <th></th>\n",
       "      <th>black</th>\n",
       "      <th>exper</th>\n",
       "      <th>hisp</th>\n",
       "      <th>hours</th>\n",
       "      <th>married</th>\n",
       "      <th>educ</th>\n",
       "      <th>union</th>\n",
       "      <th>lwage</th>\n",
       "      <th>expersq</th>\n",
       "      <th>occupation</th>\n",
       "    </tr>\n",
       "  </thead>\n",
       "  <tbody>\n",
       "    <tr>\n",
       "      <th>count</th>\n",
       "      <td>4360.000</td>\n",
       "      <td>4360.000</td>\n",
       "      <td>4360.000</td>\n",
       "      <td>4360.000</td>\n",
       "      <td>4360.000</td>\n",
       "      <td>4360.000</td>\n",
       "      <td>4360.000</td>\n",
       "      <td>4360.000</td>\n",
       "      <td>4360.000</td>\n",
       "      <td>4360.000</td>\n",
       "    </tr>\n",
       "    <tr>\n",
       "      <th>mean</th>\n",
       "      <td>0.116</td>\n",
       "      <td>6.515</td>\n",
       "      <td>0.156</td>\n",
       "      <td>2191.257</td>\n",
       "      <td>0.439</td>\n",
       "      <td>11.767</td>\n",
       "      <td>0.244</td>\n",
       "      <td>1.649</td>\n",
       "      <td>50.425</td>\n",
       "      <td>4.989</td>\n",
       "    </tr>\n",
       "    <tr>\n",
       "      <th>std</th>\n",
       "      <td>0.320</td>\n",
       "      <td>2.826</td>\n",
       "      <td>0.363</td>\n",
       "      <td>566.352</td>\n",
       "      <td>0.496</td>\n",
       "      <td>1.746</td>\n",
       "      <td>0.430</td>\n",
       "      <td>0.533</td>\n",
       "      <td>40.782</td>\n",
       "      <td>2.320</td>\n",
       "    </tr>\n",
       "    <tr>\n",
       "      <th>min</th>\n",
       "      <td>0.000</td>\n",
       "      <td>0.000</td>\n",
       "      <td>0.000</td>\n",
       "      <td>120.000</td>\n",
       "      <td>0.000</td>\n",
       "      <td>3.000</td>\n",
       "      <td>0.000</td>\n",
       "      <td>-3.579</td>\n",
       "      <td>0.000</td>\n",
       "      <td>1.000</td>\n",
       "    </tr>\n",
       "    <tr>\n",
       "      <th>25%</th>\n",
       "      <td>0.000</td>\n",
       "      <td>4.000</td>\n",
       "      <td>0.000</td>\n",
       "      <td>2040.000</td>\n",
       "      <td>0.000</td>\n",
       "      <td>11.000</td>\n",
       "      <td>0.000</td>\n",
       "      <td>1.351</td>\n",
       "      <td>16.000</td>\n",
       "      <td>4.000</td>\n",
       "    </tr>\n",
       "    <tr>\n",
       "      <th>50%</th>\n",
       "      <td>0.000</td>\n",
       "      <td>6.000</td>\n",
       "      <td>0.000</td>\n",
       "      <td>2080.000</td>\n",
       "      <td>0.000</td>\n",
       "      <td>12.000</td>\n",
       "      <td>0.000</td>\n",
       "      <td>1.671</td>\n",
       "      <td>36.000</td>\n",
       "      <td>5.000</td>\n",
       "    </tr>\n",
       "    <tr>\n",
       "      <th>75%</th>\n",
       "      <td>0.000</td>\n",
       "      <td>9.000</td>\n",
       "      <td>0.000</td>\n",
       "      <td>2414.250</td>\n",
       "      <td>1.000</td>\n",
       "      <td>12.000</td>\n",
       "      <td>0.000</td>\n",
       "      <td>1.991</td>\n",
       "      <td>81.000</td>\n",
       "      <td>6.000</td>\n",
       "    </tr>\n",
       "    <tr>\n",
       "      <th>max</th>\n",
       "      <td>1.000</td>\n",
       "      <td>18.000</td>\n",
       "      <td>1.000</td>\n",
       "      <td>4992.000</td>\n",
       "      <td>1.000</td>\n",
       "      <td>16.000</td>\n",
       "      <td>1.000</td>\n",
       "      <td>4.052</td>\n",
       "      <td>324.000</td>\n",
       "      <td>9.000</td>\n",
       "    </tr>\n",
       "  </tbody>\n",
       "</table>\n",
       "</div>"
      ],
      "text/plain": [
       "         black    exper     hisp    hours  married     educ    union    lwage  \\\n",
       "count 4360.000 4360.000 4360.000 4360.000 4360.000 4360.000 4360.000 4360.000   \n",
       "mean     0.116    6.515    0.156 2191.257    0.439   11.767    0.244    1.649   \n",
       "std      0.320    2.826    0.363  566.352    0.496    1.746    0.430    0.533   \n",
       "min      0.000    0.000    0.000  120.000    0.000    3.000    0.000   -3.579   \n",
       "25%      0.000    4.000    0.000 2040.000    0.000   11.000    0.000    1.351   \n",
       "50%      0.000    6.000    0.000 2080.000    0.000   12.000    0.000    1.671   \n",
       "75%      0.000    9.000    0.000 2414.250    1.000   12.000    0.000    1.991   \n",
       "max      1.000   18.000    1.000 4992.000    1.000   16.000    1.000    4.052   \n",
       "\n",
       "       expersq  occupation  \n",
       "count 4360.000    4360.000  \n",
       "mean    50.425       4.989  \n",
       "std     40.782       2.320  \n",
       "min      0.000       1.000  \n",
       "25%     16.000       4.000  \n",
       "50%     36.000       5.000  \n",
       "75%     81.000       6.000  \n",
       "max    324.000       9.000  "
      ]
     },
     "execution_count": 11,
     "metadata": {},
     "output_type": "execute_result"
    }
   ],
   "source": [
    "data.describe()"
   ]
  },
  {
   "cell_type": "code",
   "execution_count": 13,
   "metadata": {},
   "outputs": [
    {
     "name": "stdout",
     "output_type": "stream",
     "text": [
      "Index(['black', 'exper', 'hisp', 'hours', 'married', 'educ', 'union', 'lwage',\n",
      "       'expersq', 'occupation', 'year'],\n",
      "      dtype='object')\n"
     ]
    }
   ],
   "source": [
    "print(data.columns)"
   ]
  },
  {
   "cell_type": "markdown",
   "metadata": {},
   "source": [
    "### 1.2 Basic Regression (Pooled OLS) on Panel Data"
   ]
  },
  {
   "cell_type": "markdown",
   "metadata": {},
   "source": [
    "- PooledOLS is just plain OLS that understands that various panel data structures. It is useful as a base model\n",
    "\n",
    "$$\n",
    "y_{it} = \\beta x_{it} + (\\alpha + \\epsilon_{it})\n",
    "$$"
   ]
  },
  {
   "cell_type": "code",
   "execution_count": 15,
   "metadata": {},
   "outputs": [
    {
     "name": "stdout",
     "output_type": "stream",
     "text": [
      "                          PooledOLS Estimation Summary                          \n",
      "================================================================================\n",
      "Dep. Variable:                  lwage   R-squared:                        0.1893\n",
      "Estimator:                  PooledOLS   R-squared (Between):              0.2066\n",
      "No. Observations:                4360   R-squared (Within):               0.1692\n",
      "Date:                Mon, Mar 25 2024   R-squared (Overall):              0.1893\n",
      "Time:                        14:49:54   Log-likelihood                   -2982.0\n",
      "Cov. Estimator:            Unadjusted                                           \n",
      "                                        F-statistic:                      72.459\n",
      "Entities:                         545   P-value                           0.0000\n",
      "Avg Obs:                       8.0000   Distribution:                 F(14,4345)\n",
      "Min Obs:                       8.0000                                           \n",
      "Max Obs:                       8.0000   F-statistic (robust):             72.459\n",
      "                                        P-value                           0.0000\n",
      "Time periods:                       8   Distribution:                 F(14,4345)\n",
      "Avg Obs:                       545.00                                           \n",
      "Min Obs:                       545.00                                           \n",
      "Max Obs:                       545.00                                           \n",
      "                                                                                \n",
      "                             Parameter Estimates                              \n",
      "==============================================================================\n",
      "            Parameter  Std. Err.     T-stat    P-value    Lower CI    Upper CI\n",
      "------------------------------------------------------------------------------\n",
      "const          0.0921     0.0783     1.1761     0.2396     -0.0614      0.2455\n",
      "black         -0.1392     0.0236    -5.9049     0.0000     -0.1855     -0.0930\n",
      "hisp           0.0160     0.0208     0.7703     0.4412     -0.0248      0.0568\n",
      "exper          0.0672     0.0137     4.9095     0.0000      0.0404      0.0941\n",
      "expersq       -0.0024     0.0008    -2.9413     0.0033     -0.0040     -0.0008\n",
      "married        0.1083     0.0157     6.8997     0.0000      0.0775      0.1390\n",
      "educ           0.0913     0.0052     17.442     0.0000      0.0811      0.1016\n",
      "union          0.1825     0.0172     10.635     0.0000      0.1488      0.2161\n",
      "year.1981      0.0583     0.0304     1.9214     0.0548     -0.0012      0.1178\n",
      "year.1982      0.0628     0.0332     1.8900     0.0588     -0.0023      0.1279\n",
      "year.1983      0.0620     0.0367     1.6915     0.0908     -0.0099      0.1339\n",
      "year.1984      0.0905     0.0401     2.2566     0.0241      0.0119      0.1691\n",
      "year.1985      0.1092     0.0434     2.5200     0.0118      0.0243      0.1942\n",
      "year.1986      0.1420     0.0464     3.0580     0.0022      0.0509      0.2330\n",
      "year.1987      0.1738     0.0494     3.5165     0.0004      0.0769      0.2707\n",
      "==============================================================================\n"
     ]
    }
   ],
   "source": [
    "# Determine the exogenous variables\n",
    "exog_vars = [\"black\", \"hisp\", \"exper\", \"expersq\", \"married\", \"educ\", \"union\", \"year\"]\n",
    "exog = sm.add_constant(data[exog_vars])\n",
    "model = PooledOLS(data.lwage, exog)\n",
    "pooled_res = model.fit()\n",
    "print(pooled_res)"
   ]
  },
  {
   "cell_type": "markdown",
   "metadata": {},
   "source": [
    "### 1.3 Entity Effect"
   ]
  },
  {
   "cell_type": "markdown",
   "metadata": {},
   "source": [
    "When modeling panel data it is common to consider models beyond what OLS will efficiently estimate. The most common are error component models which add an additional term to the standard OLS model,\n",
    "\n",
    "$$\n",
    "y_{it} = \\beta x_{it} + \\alpha_i + \\epsilon_{it}\n",
    "$$\n",
    "\n",
    "where $\\alpha_i$ affects all values of entity i. \n",
    "\n",
    "When the $\\alpha_i$ are uncorrelated with the regressors in $x_{it}$ , \n",
    "\n",
    "a random effects model can be used to efficiently estimate parameters of this model."
   ]
  },
  {
   "cell_type": "markdown",
   "metadata": {},
   "source": [
    "#### 1.3.1 Random Effect\n",
    "\n",
    "The random effects model is <font color = \"red\"> virtually identical to the pooled OLS model </font>  <font color = \"orange\">except that is accounts for the structure of the model and so is more efficient </font>. Random effects uses a quasi-demeaning strategy which subtracts the time average of the within entity values to account for the common shock."
   ]
  },
  {
   "cell_type": "code",
   "execution_count": 16,
   "metadata": {},
   "outputs": [
    {
     "name": "stdout",
     "output_type": "stream",
     "text": [
      "                        RandomEffects Estimation Summary                        \n",
      "================================================================================\n",
      "Dep. Variable:                  lwage   R-squared:                        0.1806\n",
      "Estimator:              RandomEffects   R-squared (Between):              0.1853\n",
      "No. Observations:                4360   R-squared (Within):               0.1799\n",
      "Date:                Mon, Mar 25 2024   R-squared (Overall):              0.1828\n",
      "Time:                        15:20:00   Log-likelihood                   -1622.5\n",
      "Cov. Estimator:            Unadjusted                                           \n",
      "                                        F-statistic:                      68.409\n",
      "Entities:                         545   P-value                           0.0000\n",
      "Avg Obs:                       8.0000   Distribution:                 F(14,4345)\n",
      "Min Obs:                       8.0000                                           \n",
      "Max Obs:                       8.0000   F-statistic (robust):             68.409\n",
      "                                        P-value                           0.0000\n",
      "Time periods:                       8   Distribution:                 F(14,4345)\n",
      "Avg Obs:                       545.00                                           \n",
      "Min Obs:                       545.00                                           \n",
      "Max Obs:                       545.00                                           \n",
      "                                                                                \n",
      "                             Parameter Estimates                              \n",
      "==============================================================================\n",
      "            Parameter  Std. Err.     T-stat    P-value    Lower CI    Upper CI\n",
      "------------------------------------------------------------------------------\n",
      "const          0.0234     0.1514     0.1546     0.8771     -0.2735      0.3203\n",
      "black         -0.1394     0.0480    -2.9054     0.0037     -0.2334     -0.0453\n",
      "hisp           0.0217     0.0428     0.5078     0.6116     -0.0622      0.1057\n",
      "exper          0.1058     0.0154     6.8706     0.0000      0.0756      0.1361\n",
      "expersq       -0.0047     0.0007    -6.8623     0.0000     -0.0061     -0.0034\n",
      "married        0.0638     0.0168     3.8035     0.0001      0.0309      0.0967\n",
      "educ           0.0919     0.0107     8.5744     0.0000      0.0709      0.1129\n",
      "union          0.1059     0.0179     5.9289     0.0000      0.0709      0.1409\n",
      "year.1981      0.0404     0.0247     1.6362     0.1019     -0.0080      0.0889\n",
      "year.1982      0.0309     0.0324     0.9519     0.3412     -0.0327      0.0944\n",
      "year.1983      0.0202     0.0417     0.4840     0.6284     -0.0616      0.1020\n",
      "year.1984      0.0430     0.0515     0.8350     0.4037     -0.0580      0.1440\n",
      "year.1985      0.0577     0.0615     0.9383     0.3482     -0.0629      0.1782\n",
      "year.1986      0.0918     0.0716     1.2834     0.1994     -0.0485      0.2321\n",
      "year.1987      0.1348     0.0817     1.6504     0.0989     -0.0253      0.2950\n",
      "==============================================================================\n"
     ]
    }
   ],
   "source": [
    "from linearmodels import RandomEffects\n",
    "\n",
    "mod = RandomEffects(data.lwage, exog)\n",
    "re_res = mod.fit()\n",
    "print(re_res)"
   ]
  },
  {
   "cell_type": "markdown",
   "metadata": {},
   "source": [
    "- The model fit is fairly similar, although the return to experience has changed substantially, as has its significance. \n",
    "\n",
    "- <font color = \"orange\"> This is partially explainable by the inclusion of the year dummies </font> which will fit the trend in experience and so only the cross-sectional differences matter. \n",
    "\n",
    "- The quasi-differencing in the random effects estimator depends on a quantity that depends on the relative variance of the idiosyncratic shock and the common shock. \n",
    "\n",
    "- This can be accessed using variance_decomposition."
   ]
  },
  {
   "cell_type": "code",
   "execution_count": 21,
   "metadata": {},
   "outputs": [
    {
     "name": "stdout",
     "output_type": "stream",
     "text": [
      "Effects                  0.107\n",
      "Residual                 0.123\n",
      "Percent due to Effects   0.464\n",
      "Name: Variance Decomposition, dtype: float64\n"
     ]
    },
    {
     "data": {
      "text/html": [
       "<div>\n",
       "<style scoped>\n",
       "    .dataframe tbody tr th:only-of-type {\n",
       "        vertical-align: middle;\n",
       "    }\n",
       "\n",
       "    .dataframe tbody tr th {\n",
       "        vertical-align: top;\n",
       "    }\n",
       "\n",
       "    .dataframe thead th {\n",
       "        text-align: right;\n",
       "    }\n",
       "</style>\n",
       "<table border=\"1\" class=\"dataframe\">\n",
       "  <thead>\n",
       "    <tr style=\"text-align: right;\">\n",
       "      <th></th>\n",
       "      <th>theta</th>\n",
       "    </tr>\n",
       "    <tr>\n",
       "      <th>nr</th>\n",
       "      <th></th>\n",
       "    </tr>\n",
       "  </thead>\n",
       "  <tbody>\n",
       "    <tr>\n",
       "      <th>13</th>\n",
       "      <td>0.645</td>\n",
       "    </tr>\n",
       "    <tr>\n",
       "      <th>17</th>\n",
       "      <td>0.645</td>\n",
       "    </tr>\n",
       "    <tr>\n",
       "      <th>18</th>\n",
       "      <td>0.645</td>\n",
       "    </tr>\n",
       "    <tr>\n",
       "      <th>45</th>\n",
       "      <td>0.645</td>\n",
       "    </tr>\n",
       "    <tr>\n",
       "      <th>110</th>\n",
       "      <td>0.645</td>\n",
       "    </tr>\n",
       "  </tbody>\n",
       "</table>\n",
       "</div>"
      ],
      "text/plain": [
       "     theta\n",
       "nr        \n",
       "13   0.645\n",
       "17   0.645\n",
       "18   0.645\n",
       "45   0.645\n",
       "110  0.645"
      ]
     },
     "execution_count": 21,
     "metadata": {},
     "output_type": "execute_result"
    }
   ],
   "source": [
    "print(re_res.variance_decomposition)\n",
    "re_res.theta.head()"
   ]
  },
  {
   "cell_type": "markdown",
   "metadata": {},
   "source": [
    "The coefficient $\\theta_i$ determines how much demeaning takes place. When this value is 1, the RE model reduces to the pooled model since this occurs when there is no variance in the effects. When panels are unbalanced it will vary across entities, but in this balanced panel all values are the same."
   ]
  },
  {
   "cell_type": "markdown",
   "metadata": {},
   "source": [
    "#### 1.3.2 Between Estimator "
   ]
  },
  {
   "cell_type": "markdown",
   "metadata": {},
   "source": [
    "The between estimator is an alternative, usually less efficient estimator, can can be used to estimate model parameters. \n",
    "\n",
    "It is particular simple since it first computes the time averages of y and x and then runs a simple regression using these averages.\n",
    "\n",
    "The year dummies are dropped since the averaging removes differences due to the year. expersq was also dropped since it is fairly co-linear with exper. These results are broadly similar to the previous models."
   ]
  },
  {
   "cell_type": "code",
   "execution_count": null,
   "metadata": {},
   "outputs": [],
   "source": []
  },
  {
   "cell_type": "code",
   "execution_count": null,
   "metadata": {},
   "outputs": [],
   "source": []
  },
  {
   "cell_type": "markdown",
   "metadata": {},
   "source": [
    "#### Entity Effect + Time Effect"
   ]
  },
  {
   "cell_type": "markdown",
   "metadata": {},
   "source": []
  },
  {
   "cell_type": "code",
   "execution_count": null,
   "metadata": {},
   "outputs": [],
   "source": []
  },
  {
   "cell_type": "markdown",
   "metadata": {},
   "source": [
    "## 2. Grunfeld data \n",
    "using formulas to specify models"
   ]
  },
  {
   "cell_type": "markdown",
   "metadata": {},
   "source": [
    "    invest  - Gross investment in 1947 dollars\n",
    "    value   - Market value as of Dec. 31 in 1947 dollars\n",
    "    capital - Stock of plant and equipment in 1947 dollars\n",
    "    firm    - General Motors, US Steel, General Electric, Chrysler,\n",
    "            Atlantic Refining, IBM, Union Oil, Westinghouse, Goodyear,\n",
    "            Diamond Match, American Steel\n",
    "    year    - 1935 - 1954"
   ]
  },
  {
   "cell_type": "code",
   "execution_count": null,
   "metadata": {},
   "outputs": [],
   "source": [
    "# Load data\n",
    "from statsmodels.datasets import grunfeld\n",
    "data = grunfeld.load_pandas().data\n",
    "data.to_csv('grunfeld.csv')"
   ]
  },
  {
   "cell_type": "code",
   "execution_count": null,
   "metadata": {},
   "outputs": [],
   "source": [
    "# reset the index\n",
    "data = data.set_index(['firm','year'])"
   ]
  },
  {
   "cell_type": "markdown",
   "metadata": {},
   "source": [
    "### PanelOLS with Entity Effects¶\n",
    "\n",
    "Entity effects are specified using the special command EntityEffects. By default a constant is not included, and so if a constant is desired, 1+ should be included in the formula. When including effects, the model and fit are identical whether a constant is included or not."
   ]
  },
  {
   "cell_type": "code",
   "execution_count": null,
   "metadata": {},
   "outputs": [],
   "source": [
    "### No Constant\n",
    "mod = PanelOLS.from_formula(\"invest ~ value + capital + EntityEffects\", data = data)\n",
    "print(mod.fit())"
   ]
  },
  {
   "cell_type": "code",
   "execution_count": null,
   "metadata": {},
   "outputs": [],
   "source": [
    "### Add Constant\n",
    "mod = PanelOLS.from_formula(\"invest ~ 1 + value + capital + EntityEffects\", data = data)\n",
    "print(mod.fit())"
   ]
  },
  {
   "cell_type": "markdown",
   "metadata": {},
   "source": [
    "### PanelOLS with Entity Effects & Time Effects\n",
    "\n",
    "Time effects can be similarly included using *TimeEffects*. In many models, time effects can be consistently estimated and so they could be equivalently included in the set of regressors using a categorical variable."
   ]
  },
  {
   "cell_type": "code",
   "execution_count": null,
   "metadata": {},
   "outputs": [],
   "source": [
    "mod = PanelOLS.from_formula(\n",
    "    \"invest ~ 1 + value + capital + EntityEffects + TimeEffects\", data = data\n",
    ")\n",
    "print(mod.fit())"
   ]
  },
  {
   "cell_type": "markdown",
   "metadata": {},
   "source": [
    "### Between OLS"
   ]
  },
  {
   "cell_type": "code",
   "execution_count": null,
   "metadata": {},
   "outputs": [],
   "source": [
    "mod = BetweenOLS.from_formula(\"invest ~ 1 + value + capital\", data=data)\n",
    "print(mod.fit())"
   ]
  },
  {
   "cell_type": "markdown",
   "metadata": {},
   "source": [
    "### First Difference OLS"
   ]
  },
  {
   "cell_type": "code",
   "execution_count": null,
   "metadata": {},
   "outputs": [],
   "source": [
    "mod = FirstDifferenceOLS.from_formula(\"invest ~ value + capital\", data=data)\n",
    "print(mod.fit())"
   ]
  },
  {
   "cell_type": "markdown",
   "metadata": {},
   "source": [
    "### Pooled OLS"
   ]
  },
  {
   "cell_type": "markdown",
   "metadata": {},
   "source": [
    "The pooled OLS estimator is a special case of PanelOLS when there are no effects. It is effectively identical to OLS in statsmodels (or WLS) but is included for completeness."
   ]
  },
  {
   "cell_type": "code",
   "execution_count": null,
   "metadata": {},
   "outputs": [],
   "source": [
    "mod = PooledOLS.from_formula(\"invest ~ 1 + value + capital\", data = data)\n",
    "print(mod.fit())"
   ]
  }
 ],
 "metadata": {
  "kernelspec": {
   "display_name": "Python 3",
   "language": "python",
   "name": "python3"
  },
  "language_info": {
   "codemirror_mode": {
    "name": "ipython",
    "version": 3
   },
   "file_extension": ".py",
   "mimetype": "text/x-python",
   "name": "python",
   "nbconvert_exporter": "python",
   "pygments_lexer": "ipython3",
   "version": "3.11.2"
  },
  "orig_nbformat": 4
 },
 "nbformat": 4,
 "nbformat_minor": 2
}
