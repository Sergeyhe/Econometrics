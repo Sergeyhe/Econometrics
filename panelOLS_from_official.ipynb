{
 "cells": [
  {
   "cell_type": "markdown",
   "metadata": {},
   "source": [
    "### Official Websites (Examples)\n",
    "https://bashtage.github.io/linearmodels/panel/index.html"
   ]
  },
  {
   "cell_type": "markdown",
   "metadata": {},
   "source": [
    "### Official Github (Examples)\n",
    "\n",
    "https://github.com/bashtage/linearmodels/blob/main/README.md"
   ]
  },
  {
   "cell_type": "markdown",
   "metadata": {},
   "source": [
    "https://bashtage.github.io/linearmodels/panel/examples/examples.html"
   ]
  },
  {
   "cell_type": "markdown",
   "metadata": {},
   "source": [
    "## 1. Wage (Wage ~ Experience)"
   ]
  },
  {
   "cell_type": "code",
   "execution_count": 1,
   "metadata": {},
   "outputs": [],
   "source": [
    "from linearmodels.panel import PanelOLS\n",
    "from linearmodels.datasets import wage_panel\n",
    "import statsmodels.api as sm\n",
    "from linearmodels import BetweenOLS, FirstDifferenceOLS, PooledOLS\n",
    "import pandas as pd\n",
    "\n",
    "pd.set_option('display.float_format', lambda x:'%.3f' % x)"
   ]
  },
  {
   "cell_type": "code",
   "execution_count": 2,
   "metadata": {},
   "outputs": [
    {
     "data": {
      "text/html": [
       "<div>\n",
       "<style scoped>\n",
       "    .dataframe tbody tr th:only-of-type {\n",
       "        vertical-align: middle;\n",
       "    }\n",
       "\n",
       "    .dataframe tbody tr th {\n",
       "        vertical-align: top;\n",
       "    }\n",
       "\n",
       "    .dataframe thead th {\n",
       "        text-align: right;\n",
       "    }\n",
       "</style>\n",
       "<table border=\"1\" class=\"dataframe\">\n",
       "  <thead>\n",
       "    <tr style=\"text-align: right;\">\n",
       "      <th></th>\n",
       "      <th>nr</th>\n",
       "      <th>year</th>\n",
       "      <th>black</th>\n",
       "      <th>exper</th>\n",
       "      <th>hisp</th>\n",
       "      <th>hours</th>\n",
       "      <th>married</th>\n",
       "      <th>educ</th>\n",
       "      <th>union</th>\n",
       "      <th>lwage</th>\n",
       "      <th>expersq</th>\n",
       "      <th>occupation</th>\n",
       "    </tr>\n",
       "  </thead>\n",
       "  <tbody>\n",
       "    <tr>\n",
       "      <th>0</th>\n",
       "      <td>13</td>\n",
       "      <td>1980</td>\n",
       "      <td>0</td>\n",
       "      <td>1</td>\n",
       "      <td>0</td>\n",
       "      <td>2672</td>\n",
       "      <td>0</td>\n",
       "      <td>14</td>\n",
       "      <td>0</td>\n",
       "      <td>1.198</td>\n",
       "      <td>1</td>\n",
       "      <td>9</td>\n",
       "    </tr>\n",
       "    <tr>\n",
       "      <th>1</th>\n",
       "      <td>13</td>\n",
       "      <td>1981</td>\n",
       "      <td>0</td>\n",
       "      <td>2</td>\n",
       "      <td>0</td>\n",
       "      <td>2320</td>\n",
       "      <td>0</td>\n",
       "      <td>14</td>\n",
       "      <td>1</td>\n",
       "      <td>1.853</td>\n",
       "      <td>4</td>\n",
       "      <td>9</td>\n",
       "    </tr>\n",
       "    <tr>\n",
       "      <th>2</th>\n",
       "      <td>13</td>\n",
       "      <td>1982</td>\n",
       "      <td>0</td>\n",
       "      <td>3</td>\n",
       "      <td>0</td>\n",
       "      <td>2940</td>\n",
       "      <td>0</td>\n",
       "      <td>14</td>\n",
       "      <td>0</td>\n",
       "      <td>1.344</td>\n",
       "      <td>9</td>\n",
       "      <td>9</td>\n",
       "    </tr>\n",
       "    <tr>\n",
       "      <th>3</th>\n",
       "      <td>13</td>\n",
       "      <td>1983</td>\n",
       "      <td>0</td>\n",
       "      <td>4</td>\n",
       "      <td>0</td>\n",
       "      <td>2960</td>\n",
       "      <td>0</td>\n",
       "      <td>14</td>\n",
       "      <td>0</td>\n",
       "      <td>1.433</td>\n",
       "      <td>16</td>\n",
       "      <td>9</td>\n",
       "    </tr>\n",
       "    <tr>\n",
       "      <th>4</th>\n",
       "      <td>13</td>\n",
       "      <td>1984</td>\n",
       "      <td>0</td>\n",
       "      <td>5</td>\n",
       "      <td>0</td>\n",
       "      <td>3071</td>\n",
       "      <td>0</td>\n",
       "      <td>14</td>\n",
       "      <td>0</td>\n",
       "      <td>1.568</td>\n",
       "      <td>25</td>\n",
       "      <td>5</td>\n",
       "    </tr>\n",
       "    <tr>\n",
       "      <th>...</th>\n",
       "      <td>...</td>\n",
       "      <td>...</td>\n",
       "      <td>...</td>\n",
       "      <td>...</td>\n",
       "      <td>...</td>\n",
       "      <td>...</td>\n",
       "      <td>...</td>\n",
       "      <td>...</td>\n",
       "      <td>...</td>\n",
       "      <td>...</td>\n",
       "      <td>...</td>\n",
       "      <td>...</td>\n",
       "    </tr>\n",
       "    <tr>\n",
       "      <th>4355</th>\n",
       "      <td>12548</td>\n",
       "      <td>1983</td>\n",
       "      <td>0</td>\n",
       "      <td>8</td>\n",
       "      <td>0</td>\n",
       "      <td>2080</td>\n",
       "      <td>1</td>\n",
       "      <td>9</td>\n",
       "      <td>0</td>\n",
       "      <td>1.592</td>\n",
       "      <td>64</td>\n",
       "      <td>5</td>\n",
       "    </tr>\n",
       "    <tr>\n",
       "      <th>4356</th>\n",
       "      <td>12548</td>\n",
       "      <td>1984</td>\n",
       "      <td>0</td>\n",
       "      <td>9</td>\n",
       "      <td>0</td>\n",
       "      <td>2080</td>\n",
       "      <td>1</td>\n",
       "      <td>9</td>\n",
       "      <td>1</td>\n",
       "      <td>1.213</td>\n",
       "      <td>81</td>\n",
       "      <td>5</td>\n",
       "    </tr>\n",
       "    <tr>\n",
       "      <th>4357</th>\n",
       "      <td>12548</td>\n",
       "      <td>1985</td>\n",
       "      <td>0</td>\n",
       "      <td>10</td>\n",
       "      <td>0</td>\n",
       "      <td>2080</td>\n",
       "      <td>1</td>\n",
       "      <td>9</td>\n",
       "      <td>0</td>\n",
       "      <td>1.766</td>\n",
       "      <td>100</td>\n",
       "      <td>5</td>\n",
       "    </tr>\n",
       "    <tr>\n",
       "      <th>4358</th>\n",
       "      <td>12548</td>\n",
       "      <td>1986</td>\n",
       "      <td>0</td>\n",
       "      <td>11</td>\n",
       "      <td>0</td>\n",
       "      <td>2080</td>\n",
       "      <td>1</td>\n",
       "      <td>9</td>\n",
       "      <td>1</td>\n",
       "      <td>1.746</td>\n",
       "      <td>121</td>\n",
       "      <td>5</td>\n",
       "    </tr>\n",
       "    <tr>\n",
       "      <th>4359</th>\n",
       "      <td>12548</td>\n",
       "      <td>1987</td>\n",
       "      <td>0</td>\n",
       "      <td>12</td>\n",
       "      <td>0</td>\n",
       "      <td>3380</td>\n",
       "      <td>1</td>\n",
       "      <td>9</td>\n",
       "      <td>1</td>\n",
       "      <td>1.467</td>\n",
       "      <td>144</td>\n",
       "      <td>5</td>\n",
       "    </tr>\n",
       "  </tbody>\n",
       "</table>\n",
       "<p>4360 rows × 12 columns</p>\n",
       "</div>"
      ],
      "text/plain": [
       "         nr  year  black  exper  hisp  hours  married  educ  union  lwage  \\\n",
       "0        13  1980      0      1     0   2672        0    14      0  1.198   \n",
       "1        13  1981      0      2     0   2320        0    14      1  1.853   \n",
       "2        13  1982      0      3     0   2940        0    14      0  1.344   \n",
       "3        13  1983      0      4     0   2960        0    14      0  1.433   \n",
       "4        13  1984      0      5     0   3071        0    14      0  1.568   \n",
       "...     ...   ...    ...    ...   ...    ...      ...   ...    ...    ...   \n",
       "4355  12548  1983      0      8     0   2080        1     9      0  1.592   \n",
       "4356  12548  1984      0      9     0   2080        1     9      1  1.213   \n",
       "4357  12548  1985      0     10     0   2080        1     9      0  1.766   \n",
       "4358  12548  1986      0     11     0   2080        1     9      1  1.746   \n",
       "4359  12548  1987      0     12     0   3380        1     9      1  1.467   \n",
       "\n",
       "      expersq  occupation  \n",
       "0           1           9  \n",
       "1           4           9  \n",
       "2           9           9  \n",
       "3          16           9  \n",
       "4          25           5  \n",
       "...       ...         ...  \n",
       "4355       64           5  \n",
       "4356       81           5  \n",
       "4357      100           5  \n",
       "4358      121           5  \n",
       "4359      144           5  \n",
       "\n",
       "[4360 rows x 12 columns]"
      ]
     },
     "execution_count": 2,
     "metadata": {},
     "output_type": "execute_result"
    }
   ],
   "source": [
    "data = wage_panel.load()\n",
    "data"
   ]
  },
  {
   "cell_type": "code",
   "execution_count": 3,
   "metadata": {},
   "outputs": [],
   "source": [
    "# data.to_csv(\"wage_panel.csv\")"
   ]
  },
  {
   "cell_type": "code",
   "execution_count": 4,
   "metadata": {},
   "outputs": [],
   "source": [
    "# Convert the year into categorical type\n",
    "year = pd.Categorical(data.year)\n",
    "\n",
    "data = data.set_index(['nr','year'])"
   ]
  },
  {
   "cell_type": "code",
   "execution_count": 5,
   "metadata": {},
   "outputs": [
    {
     "name": "stdout",
     "output_type": "stream",
     "text": [
      "<class 'pandas.core.frame.DataFrame'>\n",
      "MultiIndex: 4360 entries, (13, 1980) to (12548, 1987)\n",
      "Data columns (total 11 columns):\n",
      " #   Column      Non-Null Count  Dtype   \n",
      "---  ------      --------------  -----   \n",
      " 0   black       4360 non-null   int64   \n",
      " 1   exper       4360 non-null   int64   \n",
      " 2   hisp        4360 non-null   int64   \n",
      " 3   hours       4360 non-null   int64   \n",
      " 4   married     4360 non-null   int64   \n",
      " 5   educ        4360 non-null   int64   \n",
      " 6   union       4360 non-null   int64   \n",
      " 7   lwage       4360 non-null   float64 \n",
      " 8   expersq     4360 non-null   int64   \n",
      " 9   occupation  4360 non-null   int64   \n",
      " 10  year        4360 non-null   category\n",
      "dtypes: category(1), float64(1), int64(9)\n",
      "memory usage: 378.9 KB\n"
     ]
    }
   ],
   "source": [
    "data[\"year\"] = year\n",
    "data.info()"
   ]
  },
  {
   "cell_type": "code",
   "execution_count": 6,
   "metadata": {},
   "outputs": [
    {
     "name": "stdout",
     "output_type": "stream",
     "text": [
      "\n",
      "F. Vella and M. Verbeek (1998), \"Whose Wages Do Unions Raise? A Dynamic Model\n",
      "of Unionism and Wage Rate Determination for Young Men,\" Journal of Applied\n",
      "Econometrics 13, 163-183.\n",
      "\n",
      "nr                       person identifier\n",
      "year                     1980 to 1987\n",
      "black                    =1 if black\n",
      "exper                    labor market experience\n",
      "hisp                     =1 if Hispanic\n",
      "hours                    annual hours worked\n",
      "married                  =1 if married\n",
      "educ                     years of schooling\n",
      "union                    =1 if in union\n",
      "lwage                    log(wage)\n",
      "expersq                  exper^2\n",
      "occupation               Occupation code\n",
      "\n",
      "         black  exper  hisp  hours  married  educ  union  lwage  expersq  \\\n",
      "nr year                                                                    \n",
      "13 1980      0      1     0   2672        0    14      0  1.198        1   \n",
      "   1981      0      2     0   2320        0    14      1  1.853        4   \n",
      "   1982      0      3     0   2940        0    14      0  1.344        9   \n",
      "   1983      0      4     0   2960        0    14      0  1.433       16   \n",
      "   1984      0      5     0   3071        0    14      0  1.568       25   \n",
      "\n",
      "         occupation  year  \n",
      "nr year                    \n",
      "13 1980           9  1980  \n",
      "   1981           9  1981  \n",
      "   1982           9  1982  \n",
      "   1983           9  1983  \n",
      "   1984           5  1984  \n"
     ]
    }
   ],
   "source": [
    "print(wage_panel.DESCR)\n",
    "print(data.head())"
   ]
  },
  {
   "cell_type": "markdown",
   "metadata": {},
   "source": [
    "### 1.1 Descriptive Statistics"
   ]
  },
  {
   "cell_type": "code",
   "execution_count": 7,
   "metadata": {},
   "outputs": [
    {
     "data": {
      "text/html": [
       "<div>\n",
       "<style scoped>\n",
       "    .dataframe tbody tr th:only-of-type {\n",
       "        vertical-align: middle;\n",
       "    }\n",
       "\n",
       "    .dataframe tbody tr th {\n",
       "        vertical-align: top;\n",
       "    }\n",
       "\n",
       "    .dataframe thead th {\n",
       "        text-align: right;\n",
       "    }\n",
       "</style>\n",
       "<table border=\"1\" class=\"dataframe\">\n",
       "  <thead>\n",
       "    <tr style=\"text-align: right;\">\n",
       "      <th></th>\n",
       "      <th>black</th>\n",
       "      <th>exper</th>\n",
       "      <th>hisp</th>\n",
       "      <th>hours</th>\n",
       "      <th>married</th>\n",
       "      <th>educ</th>\n",
       "      <th>union</th>\n",
       "      <th>lwage</th>\n",
       "      <th>expersq</th>\n",
       "      <th>occupation</th>\n",
       "    </tr>\n",
       "  </thead>\n",
       "  <tbody>\n",
       "    <tr>\n",
       "      <th>count</th>\n",
       "      <td>4360.000</td>\n",
       "      <td>4360.000</td>\n",
       "      <td>4360.000</td>\n",
       "      <td>4360.000</td>\n",
       "      <td>4360.000</td>\n",
       "      <td>4360.000</td>\n",
       "      <td>4360.000</td>\n",
       "      <td>4360.000</td>\n",
       "      <td>4360.000</td>\n",
       "      <td>4360.000</td>\n",
       "    </tr>\n",
       "    <tr>\n",
       "      <th>mean</th>\n",
       "      <td>0.116</td>\n",
       "      <td>6.515</td>\n",
       "      <td>0.156</td>\n",
       "      <td>2191.257</td>\n",
       "      <td>0.439</td>\n",
       "      <td>11.767</td>\n",
       "      <td>0.244</td>\n",
       "      <td>1.649</td>\n",
       "      <td>50.425</td>\n",
       "      <td>4.989</td>\n",
       "    </tr>\n",
       "    <tr>\n",
       "      <th>std</th>\n",
       "      <td>0.320</td>\n",
       "      <td>2.826</td>\n",
       "      <td>0.363</td>\n",
       "      <td>566.352</td>\n",
       "      <td>0.496</td>\n",
       "      <td>1.746</td>\n",
       "      <td>0.430</td>\n",
       "      <td>0.533</td>\n",
       "      <td>40.782</td>\n",
       "      <td>2.320</td>\n",
       "    </tr>\n",
       "    <tr>\n",
       "      <th>min</th>\n",
       "      <td>0.000</td>\n",
       "      <td>0.000</td>\n",
       "      <td>0.000</td>\n",
       "      <td>120.000</td>\n",
       "      <td>0.000</td>\n",
       "      <td>3.000</td>\n",
       "      <td>0.000</td>\n",
       "      <td>-3.579</td>\n",
       "      <td>0.000</td>\n",
       "      <td>1.000</td>\n",
       "    </tr>\n",
       "    <tr>\n",
       "      <th>25%</th>\n",
       "      <td>0.000</td>\n",
       "      <td>4.000</td>\n",
       "      <td>0.000</td>\n",
       "      <td>2040.000</td>\n",
       "      <td>0.000</td>\n",
       "      <td>11.000</td>\n",
       "      <td>0.000</td>\n",
       "      <td>1.351</td>\n",
       "      <td>16.000</td>\n",
       "      <td>4.000</td>\n",
       "    </tr>\n",
       "    <tr>\n",
       "      <th>50%</th>\n",
       "      <td>0.000</td>\n",
       "      <td>6.000</td>\n",
       "      <td>0.000</td>\n",
       "      <td>2080.000</td>\n",
       "      <td>0.000</td>\n",
       "      <td>12.000</td>\n",
       "      <td>0.000</td>\n",
       "      <td>1.671</td>\n",
       "      <td>36.000</td>\n",
       "      <td>5.000</td>\n",
       "    </tr>\n",
       "    <tr>\n",
       "      <th>75%</th>\n",
       "      <td>0.000</td>\n",
       "      <td>9.000</td>\n",
       "      <td>0.000</td>\n",
       "      <td>2414.250</td>\n",
       "      <td>1.000</td>\n",
       "      <td>12.000</td>\n",
       "      <td>0.000</td>\n",
       "      <td>1.991</td>\n",
       "      <td>81.000</td>\n",
       "      <td>6.000</td>\n",
       "    </tr>\n",
       "    <tr>\n",
       "      <th>max</th>\n",
       "      <td>1.000</td>\n",
       "      <td>18.000</td>\n",
       "      <td>1.000</td>\n",
       "      <td>4992.000</td>\n",
       "      <td>1.000</td>\n",
       "      <td>16.000</td>\n",
       "      <td>1.000</td>\n",
       "      <td>4.052</td>\n",
       "      <td>324.000</td>\n",
       "      <td>9.000</td>\n",
       "    </tr>\n",
       "  </tbody>\n",
       "</table>\n",
       "</div>"
      ],
      "text/plain": [
       "         black    exper     hisp    hours  married     educ    union    lwage  \\\n",
       "count 4360.000 4360.000 4360.000 4360.000 4360.000 4360.000 4360.000 4360.000   \n",
       "mean     0.116    6.515    0.156 2191.257    0.439   11.767    0.244    1.649   \n",
       "std      0.320    2.826    0.363  566.352    0.496    1.746    0.430    0.533   \n",
       "min      0.000    0.000    0.000  120.000    0.000    3.000    0.000   -3.579   \n",
       "25%      0.000    4.000    0.000 2040.000    0.000   11.000    0.000    1.351   \n",
       "50%      0.000    6.000    0.000 2080.000    0.000   12.000    0.000    1.671   \n",
       "75%      0.000    9.000    0.000 2414.250    1.000   12.000    0.000    1.991   \n",
       "max      1.000   18.000    1.000 4992.000    1.000   16.000    1.000    4.052   \n",
       "\n",
       "       expersq  occupation  \n",
       "count 4360.000    4360.000  \n",
       "mean    50.425       4.989  \n",
       "std     40.782       2.320  \n",
       "min      0.000       1.000  \n",
       "25%     16.000       4.000  \n",
       "50%     36.000       5.000  \n",
       "75%     81.000       6.000  \n",
       "max    324.000       9.000  "
      ]
     },
     "execution_count": 7,
     "metadata": {},
     "output_type": "execute_result"
    }
   ],
   "source": [
    "data.describe()"
   ]
  },
  {
   "cell_type": "code",
   "execution_count": 8,
   "metadata": {},
   "outputs": [
    {
     "name": "stdout",
     "output_type": "stream",
     "text": [
      "Index(['black', 'exper', 'hisp', 'hours', 'married', 'educ', 'union', 'lwage',\n",
      "       'expersq', 'occupation', 'year'],\n",
      "      dtype='object')\n"
     ]
    }
   ],
   "source": [
    "print(data.columns)"
   ]
  },
  {
   "cell_type": "markdown",
   "metadata": {},
   "source": [
    "### 1.2 Basic Regression (Pooled OLS) on Panel Data"
   ]
  },
  {
   "cell_type": "markdown",
   "metadata": {},
   "source": [
    "- PooledOLS is just plain OLS that understands that various panel data structures. It is useful as a base model\n",
    "\n",
    "$$\n",
    "y_{it} = \\beta x_{it} + (\\alpha + \\epsilon_{it})\n",
    "$$"
   ]
  },
  {
   "cell_type": "code",
   "execution_count": 9,
   "metadata": {},
   "outputs": [
    {
     "name": "stdout",
     "output_type": "stream",
     "text": [
      "                          PooledOLS Estimation Summary                          \n",
      "================================================================================\n",
      "Dep. Variable:                  lwage   R-squared:                        0.1893\n",
      "Estimator:                  PooledOLS   R-squared (Between):              0.2066\n",
      "No. Observations:                4360   R-squared (Within):               0.1692\n",
      "Date:                Wed, Mar 27 2024   R-squared (Overall):              0.1893\n",
      "Time:                        19:56:23   Log-likelihood                   -2982.0\n",
      "Cov. Estimator:            Unadjusted                                           \n",
      "                                        F-statistic:                      72.459\n",
      "Entities:                         545   P-value                           0.0000\n",
      "Avg Obs:                       8.0000   Distribution:                 F(14,4345)\n",
      "Min Obs:                       8.0000                                           \n",
      "Max Obs:                       8.0000   F-statistic (robust):             72.459\n",
      "                                        P-value                           0.0000\n",
      "Time periods:                       8   Distribution:                 F(14,4345)\n",
      "Avg Obs:                       545.00                                           \n",
      "Min Obs:                       545.00                                           \n",
      "Max Obs:                       545.00                                           \n",
      "                                                                                \n",
      "                             Parameter Estimates                              \n",
      "==============================================================================\n",
      "            Parameter  Std. Err.     T-stat    P-value    Lower CI    Upper CI\n",
      "------------------------------------------------------------------------------\n",
      "const          0.0921     0.0783     1.1761     0.2396     -0.0614      0.2455\n",
      "black         -0.1392     0.0236    -5.9049     0.0000     -0.1855     -0.0930\n",
      "hisp           0.0160     0.0208     0.7703     0.4412     -0.0248      0.0568\n",
      "exper          0.0672     0.0137     4.9095     0.0000      0.0404      0.0941\n",
      "expersq       -0.0024     0.0008    -2.9413     0.0033     -0.0040     -0.0008\n",
      "married        0.1083     0.0157     6.8997     0.0000      0.0775      0.1390\n",
      "educ           0.0913     0.0052     17.442     0.0000      0.0811      0.1016\n",
      "union          0.1825     0.0172     10.635     0.0000      0.1488      0.2161\n",
      "year.1981      0.0583     0.0304     1.9214     0.0548     -0.0012      0.1178\n",
      "year.1982      0.0628     0.0332     1.8900     0.0588     -0.0023      0.1279\n",
      "year.1983      0.0620     0.0367     1.6915     0.0908     -0.0099      0.1339\n",
      "year.1984      0.0905     0.0401     2.2566     0.0241      0.0119      0.1691\n",
      "year.1985      0.1092     0.0434     2.5200     0.0118      0.0243      0.1942\n",
      "year.1986      0.1420     0.0464     3.0580     0.0022      0.0509      0.2330\n",
      "year.1987      0.1738     0.0494     3.5165     0.0004      0.0769      0.2707\n",
      "==============================================================================\n"
     ]
    }
   ],
   "source": [
    "# Determine the exogenous variables\n",
    "exog_vars = [\"black\", \"hisp\", \"exper\", \"expersq\", \"married\", \"educ\", \"union\", \"year\"]\n",
    "exog = sm.add_constant(data[exog_vars])\n",
    "model = PooledOLS(data.lwage, exog)\n",
    "pooled_res = model.fit()\n",
    "print(pooled_res)"
   ]
  },
  {
   "cell_type": "markdown",
   "metadata": {},
   "source": [
    "### 1.3 Entity Effect"
   ]
  },
  {
   "cell_type": "markdown",
   "metadata": {},
   "source": [
    "When modeling panel data it is common to consider models beyond what OLS will efficiently estimate. The most common are error component models which add an additional term to the standard OLS model,\n",
    "\n",
    "$$\n",
    "y_{it} = \\beta x_{it} + \\alpha_i + \\epsilon_{it}\n",
    "$$\n",
    "\n",
    "where $\\alpha_i$ affects all values of entity i. \n",
    "\n",
    "When the $\\alpha_i$ are uncorrelated with the regressors in $x_{it}$ , \n",
    "\n",
    "a random effects model can be used to efficiently estimate parameters of this model."
   ]
  },
  {
   "cell_type": "markdown",
   "metadata": {},
   "source": [
    "#### 1.3.1 Random Effect\n",
    "\n",
    "The random effects model is <font color = \"red\"> virtually identical to the pooled OLS model </font>  <font color = \"orange\">except that is accounts for the structure of the model and so is more efficient </font>. Random effects uses a quasi-demeaning strategy which subtracts the time average of the within entity values to account for the common shock."
   ]
  },
  {
   "cell_type": "code",
   "execution_count": 11,
   "metadata": {},
   "outputs": [
    {
     "name": "stdout",
     "output_type": "stream",
     "text": [
      "                        RandomEffects Estimation Summary                        \n",
      "================================================================================\n",
      "Dep. Variable:                  lwage   R-squared:                        0.1806\n",
      "Estimator:              RandomEffects   R-squared (Between):              0.1853\n",
      "No. Observations:                4360   R-squared (Within):               0.1799\n",
      "Date:                Wed, Mar 27 2024   R-squared (Overall):              0.1828\n",
      "Time:                        19:58:09   Log-likelihood                   -1622.5\n",
      "Cov. Estimator:            Unadjusted                                           \n",
      "                                        F-statistic:                      68.409\n",
      "Entities:                         545   P-value                           0.0000\n",
      "Avg Obs:                       8.0000   Distribution:                 F(14,4345)\n",
      "Min Obs:                       8.0000                                           \n",
      "Max Obs:                       8.0000   F-statistic (robust):             68.409\n",
      "                                        P-value                           0.0000\n",
      "Time periods:                       8   Distribution:                 F(14,4345)\n",
      "Avg Obs:                       545.00                                           \n",
      "Min Obs:                       545.00                                           \n",
      "Max Obs:                       545.00                                           \n",
      "                                                                                \n",
      "                             Parameter Estimates                              \n",
      "==============================================================================\n",
      "            Parameter  Std. Err.     T-stat    P-value    Lower CI    Upper CI\n",
      "------------------------------------------------------------------------------\n",
      "const          0.0234     0.1514     0.1546     0.8771     -0.2735      0.3203\n",
      "black         -0.1394     0.0480    -2.9054     0.0037     -0.2334     -0.0453\n",
      "hisp           0.0217     0.0428     0.5078     0.6116     -0.0622      0.1057\n",
      "exper          0.1058     0.0154     6.8706     0.0000      0.0756      0.1361\n",
      "expersq       -0.0047     0.0007    -6.8623     0.0000     -0.0061     -0.0034\n",
      "married        0.0638     0.0168     3.8035     0.0001      0.0309      0.0967\n",
      "educ           0.0919     0.0107     8.5744     0.0000      0.0709      0.1129\n",
      "union          0.1059     0.0179     5.9289     0.0000      0.0709      0.1409\n",
      "year.1981      0.0404     0.0247     1.6362     0.1019     -0.0080      0.0889\n",
      "year.1982      0.0309     0.0324     0.9519     0.3412     -0.0327      0.0944\n",
      "year.1983      0.0202     0.0417     0.4840     0.6284     -0.0616      0.1020\n",
      "year.1984      0.0430     0.0515     0.8350     0.4037     -0.0580      0.1440\n",
      "year.1985      0.0577     0.0615     0.9383     0.3482     -0.0629      0.1782\n",
      "year.1986      0.0918     0.0716     1.2834     0.1994     -0.0485      0.2321\n",
      "year.1987      0.1348     0.0817     1.6504     0.0989     -0.0253      0.2950\n",
      "==============================================================================\n"
     ]
    }
   ],
   "source": [
    "from linearmodels import RandomEffects\n",
    "\n",
    "mod = RandomEffects(data.lwage, exog)\n",
    "re_res = mod.fit()\n",
    "print(re_res)"
   ]
  },
  {
   "cell_type": "markdown",
   "metadata": {},
   "source": [
    "- The model fit is fairly similar, although the return to experience has changed substantially, as has its significance. \n",
    "\n",
    "- <font color = \"orange\"> This is partially explainable by the inclusion of the year dummies </font> which will fit the trend in experience and so only the cross-sectional differences matter. \n",
    "\n",
    "- The quasi-differencing in the random effects estimator depends on a quantity that depends on the relative variance of the idiosyncratic shock and the common shock. \n",
    "\n",
    "- This can be accessed using variance_decomposition."
   ]
  },
  {
   "cell_type": "code",
   "execution_count": 12,
   "metadata": {},
   "outputs": [
    {
     "name": "stdout",
     "output_type": "stream",
     "text": [
      "Effects                  0.107\n",
      "Residual                 0.123\n",
      "Percent due to Effects   0.464\n",
      "Name: Variance Decomposition, dtype: float64\n"
     ]
    },
    {
     "data": {
      "text/html": [
       "<div>\n",
       "<style scoped>\n",
       "    .dataframe tbody tr th:only-of-type {\n",
       "        vertical-align: middle;\n",
       "    }\n",
       "\n",
       "    .dataframe tbody tr th {\n",
       "        vertical-align: top;\n",
       "    }\n",
       "\n",
       "    .dataframe thead th {\n",
       "        text-align: right;\n",
       "    }\n",
       "</style>\n",
       "<table border=\"1\" class=\"dataframe\">\n",
       "  <thead>\n",
       "    <tr style=\"text-align: right;\">\n",
       "      <th></th>\n",
       "      <th>theta</th>\n",
       "    </tr>\n",
       "    <tr>\n",
       "      <th>nr</th>\n",
       "      <th></th>\n",
       "    </tr>\n",
       "  </thead>\n",
       "  <tbody>\n",
       "    <tr>\n",
       "      <th>13</th>\n",
       "      <td>0.645</td>\n",
       "    </tr>\n",
       "    <tr>\n",
       "      <th>17</th>\n",
       "      <td>0.645</td>\n",
       "    </tr>\n",
       "    <tr>\n",
       "      <th>18</th>\n",
       "      <td>0.645</td>\n",
       "    </tr>\n",
       "    <tr>\n",
       "      <th>45</th>\n",
       "      <td>0.645</td>\n",
       "    </tr>\n",
       "    <tr>\n",
       "      <th>110</th>\n",
       "      <td>0.645</td>\n",
       "    </tr>\n",
       "  </tbody>\n",
       "</table>\n",
       "</div>"
      ],
      "text/plain": [
       "     theta\n",
       "nr        \n",
       "13   0.645\n",
       "17   0.645\n",
       "18   0.645\n",
       "45   0.645\n",
       "110  0.645"
      ]
     },
     "execution_count": 12,
     "metadata": {},
     "output_type": "execute_result"
    }
   ],
   "source": [
    "print(re_res.variance_decomposition)\n",
    "re_res.theta.head()"
   ]
  },
  {
   "cell_type": "markdown",
   "metadata": {},
   "source": [
    "The coefficient $\\theta_i$ determines how much demeaning takes place. When this value is 1, the RE model reduces to the pooled model since this occurs when there is no variance in the effects. When panels are unbalanced it will vary across entities, but in this balanced panel all values are the same."
   ]
  },
  {
   "cell_type": "markdown",
   "metadata": {},
   "source": [
    "#### 1.3.2 Between Estimator "
   ]
  },
  {
   "cell_type": "markdown",
   "metadata": {},
   "source": [
    "The between estimator is an alternative, usually less efficient estimator, can can be used to estimate model parameters. \n",
    "\n",
    "It is particular simple since it first computes the time averages of y and x and then runs a simple regression using these averages.\n",
    "\n",
    "The year dummies are dropped since the averaging removes differences due to the year. expersq was also dropped since it is fairly co-linear with exper. These results are broadly similar to the previous models."
   ]
  },
  {
   "cell_type": "code",
   "execution_count": 13,
   "metadata": {},
   "outputs": [
    {
     "name": "stdout",
     "output_type": "stream",
     "text": [
      "                         BetweenOLS Estimation Summary                          \n",
      "================================================================================\n",
      "Dep. Variable:                  lwage   R-squared:                        0.2155\n",
      "Estimator:                 BetweenOLS   R-squared (Between):              0.2155\n",
      "No. Observations:                 545   R-squared (Within):               0.1141\n",
      "Date:                Wed, Mar 27 2024   R-squared (Overall):              0.1686\n",
      "Time:                        20:04:17   Log-likelihood                   -194.54\n",
      "Cov. Estimator:            Unadjusted                                           \n",
      "                                        F-statistic:                      24.633\n",
      "Entities:                         545   P-value                           0.0000\n",
      "Avg Obs:                       8.0000   Distribution:                   F(6,538)\n",
      "Min Obs:                       8.0000                                           \n",
      "Max Obs:                       8.0000   F-statistic (robust):             24.633\n",
      "                                        P-value                           0.0000\n",
      "Time periods:                       8   Distribution:                   F(6,538)\n",
      "Avg Obs:                       545.00                                           \n",
      "Min Obs:                       545.00                                           \n",
      "Max Obs:                       545.00                                           \n",
      "                                                                                \n",
      "                             Parameter Estimates                              \n",
      "==============================================================================\n",
      "            Parameter  Std. Err.     T-stat    P-value    Lower CI    Upper CI\n",
      "------------------------------------------------------------------------------\n",
      "const          0.2836     0.1784     1.5897     0.1125     -0.0668      0.6340\n",
      "black         -0.1414     0.0489    -2.8915     0.0040     -0.2375     -0.0453\n",
      "hisp           0.0100     0.0426     0.2355     0.8139     -0.0737      0.0938\n",
      "exper          0.0278     0.0113     2.4538     0.0144      0.0055      0.0501\n",
      "married        0.1416     0.0412     3.4346     0.0006      0.0606      0.2226\n",
      "educ           0.0913     0.0107     8.5159     0.0000      0.0702      0.1123\n",
      "union          0.2587     0.0460     5.6214     0.0000      0.1683      0.3491\n",
      "==============================================================================\n"
     ]
    }
   ],
   "source": [
    "exog_vars = [\"black\",\"hisp\",\"exper\",\"married\",\"educ\",\"union\"]\n",
    "exog = sm.add_constant(data[exog_vars])\n",
    "mod = BetweenOLS(data.lwage, exog)\n",
    "be_res = mod.fit()\n",
    "print(be_res)"
   ]
  },
  {
   "cell_type": "markdown",
   "metadata": {},
   "source": [
    "### 1.3.3 Entity effect\n",
    "Entity effects are included by setting entity_effects=True. This is equivalent to including dummies for each entity. In this panel, this would add 545 dummy variables and estimation of the model would be considerably slower. PanelOLS does not actually use dummy variables and instead uses group-wise demeaning to achieve the same effec"
   ]
  },
  {
   "cell_type": "code",
   "execution_count": 14,
   "metadata": {},
   "outputs": [
    {
     "name": "stdout",
     "output_type": "stream",
     "text": [
      "                          PanelOLS Estimation Summary                           \n",
      "================================================================================\n",
      "Dep. Variable:                  lwage   R-squared:                        0.1806\n",
      "Estimator:                   PanelOLS   R-squared (Between):             -0.0052\n",
      "No. Observations:                4360   R-squared (Within):               0.1806\n",
      "Date:                Wed, Mar 27 2024   R-squared (Overall):              0.0807\n",
      "Time:                        20:09:37   Log-likelihood                   -1324.8\n",
      "Cov. Estimator:            Unadjusted                                           \n",
      "                                        F-statistic:                      83.851\n",
      "Entities:                         545   P-value                           0.0000\n",
      "Avg Obs:                       8.0000   Distribution:                 F(10,3805)\n",
      "Min Obs:                       8.0000                                           \n",
      "Max Obs:                       8.0000   F-statistic (robust):             83.851\n",
      "                                        P-value                           0.0000\n",
      "Time periods:                       8   Distribution:                 F(10,3805)\n",
      "Avg Obs:                       545.00                                           \n",
      "Min Obs:                       545.00                                           \n",
      "Max Obs:                       545.00                                           \n",
      "                                                                                \n",
      "                             Parameter Estimates                              \n",
      "==============================================================================\n",
      "            Parameter  Std. Err.     T-stat    P-value    Lower CI    Upper CI\n",
      "------------------------------------------------------------------------------\n",
      "const          1.4260     0.0183     77.748     0.0000      1.3901      1.4620\n",
      "expersq       -0.0052     0.0007    -7.3612     0.0000     -0.0066     -0.0038\n",
      "union          0.0800     0.0193     4.1430     0.0000      0.0421      0.1179\n",
      "married        0.0467     0.0183     2.5494     0.0108      0.0108      0.0826\n",
      "year.1981      0.1512     0.0219     6.8883     0.0000      0.1082      0.1942\n",
      "year.1982      0.2530     0.0244     10.360     0.0000      0.2051      0.3008\n",
      "year.1983      0.3544     0.0292     12.121     0.0000      0.2971      0.4118\n",
      "year.1984      0.4901     0.0362     13.529     0.0000      0.4191      0.5611\n",
      "year.1985      0.6175     0.0452     13.648     0.0000      0.5288      0.7062\n",
      "year.1986      0.7655     0.0561     13.638     0.0000      0.6555      0.8755\n",
      "year.1987      0.9250     0.0688     13.450     0.0000      0.7902      1.0599\n",
      "==============================================================================\n",
      "\n",
      "F-test for Poolability: 9.1568\n",
      "P-value: 0.0000\n",
      "Distribution: F(544,3805)\n",
      "\n",
      "Included effects: Entity\n"
     ]
    }
   ],
   "source": [
    "exog_vars = [\"expersq\", \"union\", \"married\", \"year\"]\n",
    "exog = sm.add_constant(data[exog_vars])\n",
    "mod = PanelOLS(data.lwage, exog, entity_effects=True)\n",
    "fe_res = mod.fit()\n",
    "print(fe_res)"
   ]
  },
  {
   "cell_type": "markdown",
   "metadata": {},
   "source": [
    "### 1.3.4 Time Effect\n",
    "\n",
    "Time effect can be added using time_effects=True. Here the time dummies are removed. Note that the core coefficients are identical. The only change is in the test statistic for poolability since not the “effects” include both entity and time, whereas before only entity were included."
   ]
  },
  {
   "cell_type": "code",
   "execution_count": 15,
   "metadata": {},
   "outputs": [
    {
     "name": "stdout",
     "output_type": "stream",
     "text": [
      "                          PanelOLS Estimation Summary                           \n",
      "================================================================================\n",
      "Dep. Variable:                  lwage   R-squared:                        0.0216\n",
      "Estimator:                   PanelOLS   R-squared (Between):             -0.0052\n",
      "No. Observations:                4360   R-squared (Within):              -0.4809\n",
      "Date:                Wed, Mar 27 2024   R-squared (Overall):             -0.2253\n",
      "Time:                        20:11:39   Log-likelihood                   -1324.8\n",
      "Cov. Estimator:            Unadjusted                                           \n",
      "                                        F-statistic:                      27.959\n",
      "Entities:                         545   P-value                           0.0000\n",
      "Avg Obs:                       8.0000   Distribution:                  F(3,3805)\n",
      "Min Obs:                       8.0000                                           \n",
      "Max Obs:                       8.0000   F-statistic (robust):             27.959\n",
      "                                        P-value                           0.0000\n",
      "Time periods:                       8   Distribution:                  F(3,3805)\n",
      "Avg Obs:                       545.00                                           \n",
      "Min Obs:                       545.00                                           \n",
      "Max Obs:                       545.00                                           \n",
      "                                                                                \n",
      "                             Parameter Estimates                              \n",
      "==============================================================================\n",
      "            Parameter  Std. Err.     T-stat    P-value    Lower CI    Upper CI\n",
      "------------------------------------------------------------------------------\n",
      "const          1.8706     0.0378     49.430     0.0000      1.7964      1.9448\n",
      "expersq       -0.0052     0.0007    -7.3612     0.0000     -0.0066     -0.0038\n",
      "union          0.0800     0.0193     4.1430     0.0000      0.0421      0.1179\n",
      "married        0.0467     0.0183     2.5494     0.0108      0.0108      0.0826\n",
      "==============================================================================\n",
      "\n",
      "F-test for Poolability: 10.067\n",
      "P-value: 0.0000\n",
      "Distribution: F(551,3805)\n",
      "\n",
      "Included effects: Entity, Time\n"
     ]
    }
   ],
   "source": [
    "exog_vars = [\"expersq\", \"union\", \"married\"]\n",
    "exog = sm.add_constant(data[exog_vars])\n",
    "mod = PanelOLS(data.lwage, exog, entity_effects=True, time_effects=True)\n",
    "fe_te_res = mod.fit()\n",
    "print(fe_te_res)"
   ]
  },
  {
   "cell_type": "markdown",
   "metadata": {},
   "source": [
    "## 1.4 First Differences\n",
    "\n",
    "First differencing is an alternative to using fixed effects when there might be correlation. When using first differences, time-invariant variables must be excluded. Additionally, only one linear time-trending variable can be included since this will look like a constant. This variable will soak up all time-trends in the data, and so interpretations of these variable can be challenging."
   ]
  },
  {
   "cell_type": "code",
   "execution_count": 16,
   "metadata": {},
   "outputs": [
    {
     "name": "stdout",
     "output_type": "stream",
     "text": [
      "                     FirstDifferenceOLS Estimation Summary                      \n",
      "================================================================================\n",
      "Dep. Variable:                  lwage   R-squared:                        0.0268\n",
      "Estimator:         FirstDifferenceOLS   R-squared (Between):              0.5491\n",
      "No. Observations:                3815   R-squared (Within):               0.1763\n",
      "Date:                Wed, Mar 27 2024   R-squared (Overall):              0.5328\n",
      "Time:                        20:13:23   Log-likelihood                   -2305.5\n",
      "Cov. Estimator:            Unadjusted                                           \n",
      "                                        F-statistic:                      26.208\n",
      "Entities:                         545   P-value                           0.0000\n",
      "Avg Obs:                       8.0000   Distribution:                  F(4,3811)\n",
      "Min Obs:                       8.0000                                           \n",
      "Max Obs:                       8.0000   F-statistic (robust):             26.208\n",
      "                                        P-value                           0.0000\n",
      "Time periods:                       8   Distribution:                  F(4,3811)\n",
      "Avg Obs:                       545.00                                           \n",
      "Min Obs:                       545.00                                           \n",
      "Max Obs:                       545.00                                           \n",
      "                                                                                \n",
      "                             Parameter Estimates                              \n",
      "==============================================================================\n",
      "            Parameter  Std. Err.     T-stat    P-value    Lower CI    Upper CI\n",
      "------------------------------------------------------------------------------\n",
      "exper          0.1158     0.0196     5.9096     0.0000      0.0773      0.1542\n",
      "expersq       -0.0039     0.0014    -2.8005     0.0051     -0.0066     -0.0012\n",
      "union          0.0428     0.0197     2.1767     0.0296      0.0042      0.0813\n",
      "married        0.0381     0.0229     1.6633     0.0963     -0.0068      0.0831\n",
      "==============================================================================\n"
     ]
    }
   ],
   "source": [
    "from linearmodels.panel import FirstDifferenceOLS\n",
    "\n",
    "exog_vars = [\"exper\", \"expersq\", \"union\", \"married\"]\n",
    "exog = data[exog_vars]\n",
    "mod = FirstDifferenceOLS(data.lwage, exog)\n",
    "fd_res = mod.fit()\n",
    "print(fd_res)"
   ]
  },
  {
   "cell_type": "markdown",
   "metadata": {},
   "source": [
    "## 1.5 Comparing Models"
   ]
  },
  {
   "cell_type": "markdown",
   "metadata": {},
   "source": [
    "Model results can be compared using *compare*. compare accepts lists of results, a dictionary of results where the key is interpreted as the model name."
   ]
  },
  {
   "cell_type": "code",
   "execution_count": 17,
   "metadata": {},
   "outputs": [
    {
     "name": "stdout",
     "output_type": "stream",
     "text": [
      "                        Model Comparison                       \n",
      "===============================================================\n",
      "                                BE              RE       Pooled\n",
      "---------------------------------------------------------------\n",
      "Dep. Variable                lwage           lwage        lwage\n",
      "Estimator               BetweenOLS   RandomEffects    PooledOLS\n",
      "No. Observations               545            4360         4360\n",
      "Cov. Est.               Unadjusted      Unadjusted   Unadjusted\n",
      "R-squared                   0.2155          0.1806       0.1893\n",
      "R-Squared (Within)          0.1141          0.1799       0.1692\n",
      "R-Squared (Between)         0.2155          0.1853       0.2066\n",
      "R-Squared (Overall)         0.1686          0.1828       0.1893\n",
      "F-statistic                 24.633          68.409       72.459\n",
      "P-value (F-stat)            0.0000          0.0000       0.0000\n",
      "===================== ============ =============== ============\n",
      "const                       0.2836          0.0234       0.0921\n",
      "                          (1.5897)        (0.1546)     (1.1761)\n",
      "black                      -0.1414         -0.1394      -0.1392\n",
      "                         (-2.8915)       (-2.9054)    (-5.9049)\n",
      "hisp                        0.0100          0.0217       0.0160\n",
      "                          (0.2355)        (0.5078)     (0.7703)\n",
      "exper                       0.0278          0.1058       0.0672\n",
      "                          (2.4538)        (6.8706)     (4.9095)\n",
      "married                     0.1416          0.0638       0.1083\n",
      "                          (3.4346)        (3.8035)     (6.8997)\n",
      "educ                        0.0913          0.0919       0.0913\n",
      "                          (8.5159)        (8.5744)     (17.442)\n",
      "union                       0.2587          0.1059       0.1825\n",
      "                          (5.6214)        (5.9289)     (10.635)\n",
      "expersq                                    -0.0047      -0.0024\n",
      "                                         (-6.8623)    (-2.9413)\n",
      "year.1981                                   0.0404       0.0583\n",
      "                                          (1.6362)     (1.9214)\n",
      "year.1982                                   0.0309       0.0628\n",
      "                                          (0.9519)     (1.8900)\n",
      "year.1983                                   0.0202       0.0620\n",
      "                                          (0.4840)     (1.6915)\n",
      "year.1984                                   0.0430       0.0905\n",
      "                                          (0.8350)     (2.2566)\n",
      "year.1985                                   0.0577       0.1092\n",
      "                                          (0.9383)     (2.5200)\n",
      "year.1986                                   0.0918       0.1420\n",
      "                                          (1.2834)     (3.0580)\n",
      "year.1987                                   0.1348       0.1738\n",
      "                                          (1.6504)     (3.5165)\n",
      "---------------------------------------------------------------\n",
      "\n",
      "T-stats reported in parentheses\n"
     ]
    }
   ],
   "source": [
    "from linearmodels.panel import compare\n",
    "\n",
    "print(compare({\"BE\": be_res, \"RE\": re_res, \"Pooled\": pooled_res}))"
   ]
  },
  {
   "cell_type": "markdown",
   "metadata": {},
   "source": [
    "## 1.6 Covariance Options\n",
    "\n",
    "### 1.6.1 Heteroskedasticity Robust Covariance\n",
    "White”s robust covariance can be used by setting cov_type=\"robust. This estimator adds some robustness against certain types of specification issues but should not be used when using fixed effects (entity effects) since it is no longer robust. Instead a clustered covariance is required."
   ]
  },
  {
   "cell_type": "code",
   "execution_count": 20,
   "metadata": {},
   "outputs": [
    {
     "name": "stdout",
     "output_type": "stream",
     "text": [
      "                          PooledOLS Estimation Summary                          \n",
      "================================================================================\n",
      "Dep. Variable:                  lwage   R-squared:                        0.1866\n",
      "Estimator:                  PooledOLS   R-squared (Between):              0.2027\n",
      "No. Observations:                4360   R-squared (Within):               0.1679\n",
      "Date:                Wed, Mar 27 2024   R-squared (Overall):              0.1866\n",
      "Time:                        20:18:27   Log-likelihood                   -2989.2\n",
      "Cov. Estimator:                Robust                                           \n",
      "                                        F-statistic:                      142.61\n",
      "Entities:                         545   P-value                           0.0000\n",
      "Avg Obs:                       8.0000   Distribution:                  F(7,4352)\n",
      "Min Obs:                       8.0000                                           \n",
      "Max Obs:                       8.0000   F-statistic (robust):             146.95\n",
      "                                        P-value                           0.0000\n",
      "Time periods:                       8   Distribution:                  F(7,4352)\n",
      "Avg Obs:                       545.00                                           \n",
      "Min Obs:                       545.00                                           \n",
      "Max Obs:                       545.00                                           \n",
      "                                                                                \n",
      "                             Parameter Estimates                              \n",
      "==============================================================================\n",
      "            Parameter  Std. Err.     T-stat    P-value    Lower CI    Upper CI\n",
      "------------------------------------------------------------------------------\n",
      "const         -0.0347     0.0647    -0.5360     0.5920     -0.1616      0.0922\n",
      "black         -0.1438     0.0244    -5.9045     0.0000     -0.1916     -0.0961\n",
      "hisp           0.0157     0.0197     0.7952     0.4266     -0.0230      0.0544\n",
      "exper          0.0892     0.0101     8.7881     0.0000      0.0693      0.1091\n",
      "expersq       -0.0028     0.0007    -4.1934     0.0000     -0.0042     -0.0015\n",
      "married        0.1077     0.0153     7.0525     0.0000      0.0777      0.1376\n",
      "educ           0.0994     0.0046     21.626     0.0000      0.0904      0.1084\n",
      "union          0.1801     0.0162     11.087     0.0000      0.1482      0.2119\n",
      "==============================================================================\n",
      "               Model Comparison               \n",
      "==============================================\n",
      "                           Roubst         None\n",
      "----------------------------------------------\n",
      "Dep. Variable               lwage        lwage\n",
      "Estimator               PooledOLS    PooledOLS\n",
      "No. Observations             4360         4360\n",
      "Cov. Est.                  Robust   Unadjusted\n",
      "R-squared                  0.1866       0.1866\n",
      "R-Squared (Within)         0.1679       0.1679\n",
      "R-Squared (Between)        0.2027       0.2027\n",
      "R-Squared (Overall)        0.1866       0.1866\n",
      "F-statistic                142.61       142.61\n",
      "P-value (F-stat)           0.0000       0.0000\n",
      "===================== =========== ============\n",
      "const                     -0.0347      -0.0347\n",
      "                        (-0.5360)    (-0.5375)\n",
      "black                     -0.1438      -0.1438\n",
      "                        (-5.9045)    (-6.1055)\n",
      "hisp                       0.0157       0.0157\n",
      "                         (0.7952)     (0.7543)\n",
      "exper                      0.0892       0.0892\n",
      "                         (8.7881)     (8.8200)\n",
      "expersq                   -0.0028      -0.0028\n",
      "                        (-4.1934)    (-4.0272)\n",
      "married                    0.1077       0.1077\n",
      "                         (7.0525)     (6.8592)\n",
      "educ                       0.0994       0.0994\n",
      "                         (21.626)     (21.248)\n",
      "union                      0.1801       0.1801\n",
      "                         (11.087)     (10.518)\n",
      "----------------------------------------------\n",
      "\n",
      "T-stats reported in parentheses\n"
     ]
    }
   ],
   "source": [
    "exog_vars = [\"black\", \"hisp\", \"exper\", \"expersq\", \"married\", \"educ\", \"union\"]\n",
    "exog = sm.add_constant(data[exog_vars])\n",
    "mod = PooledOLS(data.lwage, exog)\n",
    "robust = mod.fit(cov_type=\"robust\")\n",
    "none = mod.fit()\n",
    "print(robust)\n",
    "print(compare({\"Roubst\": robust, \"None\": none}))\n"
   ]
  },
  {
   "cell_type": "markdown",
   "metadata": {},
   "source": [
    "## 1.6.2 Clustered by Entity\n",
    "\n",
    "The usual variable to cluster are are entity or entity and time. The can be implemented using cov_type=\"clustered\" and the additional keyword arguments cluster_entity=True and/or cluster_time=True."
   ]
  },
  {
   "cell_type": "code",
   "execution_count": 22,
   "metadata": {},
   "outputs": [
    {
     "name": "stdout",
     "output_type": "stream",
     "text": [
      "                          PooledOLS Estimation Summary                          \n",
      "================================================================================\n",
      "Dep. Variable:                  lwage   R-squared:                        0.1866\n",
      "Estimator:                  PooledOLS   R-squared (Between):              0.2027\n",
      "No. Observations:                4360   R-squared (Within):               0.1679\n",
      "Date:                Wed, Mar 27 2024   R-squared (Overall):              0.1866\n",
      "Time:                        20:19:49   Log-likelihood                   -2989.2\n",
      "Cov. Estimator:             Clustered                                           \n",
      "                                        F-statistic:                      142.61\n",
      "Entities:                         545   P-value                           0.0000\n",
      "Avg Obs:                       8.0000   Distribution:                  F(7,4352)\n",
      "Min Obs:                       8.0000                                           \n",
      "Max Obs:                       8.0000   F-statistic (robust):             59.188\n",
      "                                        P-value                           0.0000\n",
      "Time periods:                       8   Distribution:                  F(7,4352)\n",
      "Avg Obs:                       545.00                                           \n",
      "Min Obs:                       545.00                                           \n",
      "Max Obs:                       545.00                                           \n",
      "                                                                                \n",
      "                             Parameter Estimates                              \n",
      "==============================================================================\n",
      "            Parameter  Std. Err.     T-stat    P-value    Lower CI    Upper CI\n",
      "------------------------------------------------------------------------------\n",
      "const         -0.0347     0.1200    -0.2892     0.7724     -0.2700      0.2006\n",
      "black         -0.1438     0.0501    -2.8727     0.0041     -0.2420     -0.0457\n",
      "hisp           0.0157     0.0392     0.4008     0.6886     -0.0611      0.0925\n",
      "exper          0.0892     0.0124     7.1728     0.0000      0.0648      0.1136\n",
      "expersq       -0.0028     0.0009    -3.2747     0.0011     -0.0046     -0.0011\n",
      "married        0.1077     0.0261     4.1314     0.0000      0.0566      0.1588\n",
      "educ           0.0994     0.0092     10.802     0.0000      0.0813      0.1174\n",
      "union          0.1801     0.0276     6.5343     0.0000      0.1260      0.2341\n",
      "==============================================================================\n"
     ]
    }
   ],
   "source": [
    "clust_entity = mod.fit(cov_type=\"clustered\", cluster_entity=True)\n",
    "print(clust_entity)"
   ]
  },
  {
   "cell_type": "code",
   "execution_count": 23,
   "metadata": {},
   "outputs": [
    {
     "name": "stdout",
     "output_type": "stream",
     "text": [
      "                          PooledOLS Estimation Summary                          \n",
      "================================================================================\n",
      "Dep. Variable:                  lwage   R-squared:                        0.1866\n",
      "Estimator:                  PooledOLS   R-squared (Between):              0.2027\n",
      "No. Observations:                4360   R-squared (Within):               0.1679\n",
      "Date:                Wed, Mar 27 2024   R-squared (Overall):              0.1866\n",
      "Time:                        20:20:00   Log-likelihood                   -2989.2\n",
      "Cov. Estimator:             Clustered                                           \n",
      "                                        F-statistic:                      142.61\n",
      "Entities:                         545   P-value                           0.0000\n",
      "Avg Obs:                       8.0000   Distribution:                  F(7,4352)\n",
      "Min Obs:                       8.0000                                           \n",
      "Max Obs:                       8.0000   F-statistic (robust):             60.082\n",
      "                                        P-value                           0.0000\n",
      "Time periods:                       8   Distribution:                  F(7,4352)\n",
      "Avg Obs:                       545.00                                           \n",
      "Min Obs:                       545.00                                           \n",
      "Max Obs:                       545.00                                           \n",
      "                                                                                \n",
      "                             Parameter Estimates                              \n",
      "==============================================================================\n",
      "            Parameter  Std. Err.     T-stat    P-value    Lower CI    Upper CI\n",
      "------------------------------------------------------------------------------\n",
      "const         -0.0347     0.1103    -0.3145     0.7531     -0.2510      0.1816\n",
      "black         -0.1438     0.0478    -3.0067     0.0027     -0.2376     -0.0501\n",
      "hisp           0.0157     0.0355     0.4428     0.6579     -0.0538      0.0852\n",
      "exper          0.0892     0.0141     6.3223     0.0000      0.0615      0.1168\n",
      "expersq       -0.0028     0.0009    -3.1571     0.0016     -0.0046     -0.0011\n",
      "married        0.1077     0.0220     4.8989     0.0000      0.0646      0.1508\n",
      "educ           0.0994     0.0081     12.296     0.0000      0.0835      0.1152\n",
      "union          0.1801     0.0270     6.6732     0.0000      0.1272      0.2330\n",
      "==============================================================================\n"
     ]
    }
   ],
   "source": [
    "clust_entity_time = mod.fit(\n",
    "    cov_type=\"clustered\", cluster_entity=True, cluster_time=True\n",
    ")\n",
    "print(clust_entity_time)"
   ]
  },
  {
   "cell_type": "markdown",
   "metadata": {},
   "source": [
    "## 1.6.3 Use \"OrderedDict\" to compare the models"
   ]
  },
  {
   "cell_type": "code",
   "execution_count": 24,
   "metadata": {},
   "outputs": [
    {
     "name": "stdout",
     "output_type": "stream",
     "text": [
      "                      Model Comparison                     \n",
      "===========================================================\n",
      "                           Robust      Entity Entity - Time\n",
      "-----------------------------------------------------------\n",
      "Dep. Variable               lwage       lwage         lwage\n",
      "Estimator               PooledOLS   PooledOLS     PooledOLS\n",
      "No. Observations             4360        4360          4360\n",
      "Cov. Est.                  Robust   Clustered     Clustered\n",
      "R-squared                  0.1866      0.1866        0.1866\n",
      "R-Squared (Within)         0.1679      0.1679        0.1679\n",
      "R-Squared (Between)        0.2027      0.2027        0.2027\n",
      "R-Squared (Overall)        0.1866      0.1866        0.1866\n",
      "F-statistic                142.61      142.61        142.61\n",
      "P-value (F-stat)           0.0000      0.0000        0.0000\n",
      "===================== =========== ===========   ===========\n",
      "const                     -0.0347     -0.0347       -0.0347\n",
      "                        (-0.5360)   (-0.2892)     (-0.3145)\n",
      "black                     -0.1438     -0.1438       -0.1438\n",
      "                        (-5.9045)   (-2.8727)     (-3.0067)\n",
      "hisp                       0.0157      0.0157        0.0157\n",
      "                         (0.7952)    (0.4008)      (0.4428)\n",
      "exper                      0.0892      0.0892        0.0892\n",
      "                         (8.7881)    (7.1728)      (6.3223)\n",
      "expersq                   -0.0028     -0.0028       -0.0028\n",
      "                        (-4.1934)   (-3.2747)     (-3.1571)\n",
      "married                    0.1077      0.1077        0.1077\n",
      "                         (7.0525)    (4.1314)      (4.8989)\n",
      "educ                       0.0994      0.0994        0.0994\n",
      "                         (21.626)    (10.802)      (12.296)\n",
      "union                      0.1801      0.1801        0.1801\n",
      "                         (11.087)    (6.5343)      (6.6732)\n",
      "-----------------------------------------------------------\n",
      "\n",
      "T-stats reported in parentheses\n"
     ]
    }
   ],
   "source": [
    "from collections import OrderedDict\n",
    "\n",
    "res = OrderedDict()\n",
    "res[\"Robust\"] = robust\n",
    "res[\"Entity\"] = clust_entity\n",
    "res[\"Entity - Time\"] = clust_entity_time\n",
    "print(compare(res))"
   ]
  },
  {
   "cell_type": "markdown",
   "metadata": {},
   "source": [
    "## 1.6.4 Other Clusters \n",
    "Other clusters can be used by directly passing integer arrays (1 or 2 columns, or a 1-d array) using the input clusters. This example clustered by occupation, which is probably not a reliable variable to cluster on since there are only 9 groups and the usual theory for clustered standard errors requires that the number of clusters is large."
   ]
  },
  {
   "cell_type": "code",
   "execution_count": 25,
   "metadata": {},
   "outputs": [
    {
     "name": "stdout",
     "output_type": "stream",
     "text": [
      "occupation\n",
      "5    934\n",
      "6    881\n",
      "9    509\n",
      "4    486\n",
      "1    453\n",
      "7    401\n",
      "2    399\n",
      "3    233\n",
      "8     64\n",
      "Name: count, dtype: int64\n",
      "                          PooledOLS Estimation Summary                          \n",
      "================================================================================\n",
      "Dep. Variable:                  lwage   R-squared:                        0.1866\n",
      "Estimator:                  PooledOLS   R-squared (Between):              0.2027\n",
      "No. Observations:                4360   R-squared (Within):               0.1679\n",
      "Date:                Wed, Mar 27 2024   R-squared (Overall):              0.1866\n",
      "Time:                        20:23:51   Log-likelihood                   -2989.2\n",
      "Cov. Estimator:             Clustered                                           \n",
      "                                        F-statistic:                      142.61\n",
      "Entities:                         545   P-value                           0.0000\n",
      "Avg Obs:                       8.0000   Distribution:                  F(7,4352)\n",
      "Min Obs:                       8.0000                                           \n",
      "Max Obs:                       8.0000   F-statistic (robust):             116.58\n",
      "                                        P-value                           0.0000\n",
      "Time periods:                       8   Distribution:                  F(7,4352)\n",
      "Avg Obs:                       545.00                                           \n",
      "Min Obs:                       545.00                                           \n",
      "Max Obs:                       545.00                                           \n",
      "                                                                                \n",
      "                             Parameter Estimates                              \n",
      "==============================================================================\n",
      "            Parameter  Std. Err.     T-stat    P-value    Lower CI    Upper CI\n",
      "------------------------------------------------------------------------------\n",
      "const         -0.0347     0.1479    -0.2346     0.8145     -0.3247      0.2553\n",
      "black         -0.1438     0.0297    -4.8469     0.0000     -0.2020     -0.0857\n",
      "hisp           0.0157     0.0266     0.5892     0.5557     -0.0365      0.0679\n",
      "exper          0.0892     0.0134     6.6513     0.0000      0.0629      0.1155\n",
      "expersq       -0.0028     0.0009    -3.2442     0.0012     -0.0046     -0.0011\n",
      "married        0.1077     0.0139     7.7322     0.0000      0.0804      0.1350\n",
      "educ           0.0994     0.0112     8.8846     0.0000      0.0775      0.1213\n",
      "union          0.1801     0.0320     5.6323     0.0000      0.1174      0.2428\n",
      "==============================================================================\n"
     ]
    }
   ],
   "source": [
    "clust_entity = mod.fit(cov_type=\"clustered\", clusters=data.occupation)\n",
    "print(data.occupation.value_counts())\n",
    "print(clust_entity)"
   ]
  },
  {
   "cell_type": "markdown",
   "metadata": {},
   "source": [
    "## 2. Grunfeld data \n",
    "using formulas to specify models"
   ]
  },
  {
   "cell_type": "markdown",
   "metadata": {},
   "source": [
    "    invest  - Gross investment in 1947 dollars\n",
    "    value   - Market value as of Dec. 31 in 1947 dollars\n",
    "    capital - Stock of plant and equipment in 1947 dollars\n",
    "    firm    - General Motors, US Steel, General Electric, Chrysler,\n",
    "            Atlantic Refining, IBM, Union Oil, Westinghouse, Goodyear,\n",
    "            Diamond Match, American Steel\n",
    "    year    - 1935 - 1954"
   ]
  },
  {
   "cell_type": "code",
   "execution_count": null,
   "metadata": {},
   "outputs": [],
   "source": [
    "# Load data\n",
    "from statsmodels.datasets import grunfeld\n",
    "data = grunfeld.load_pandas().data\n",
    "data.to_csv('grunfeld.csv')"
   ]
  },
  {
   "cell_type": "code",
   "execution_count": null,
   "metadata": {},
   "outputs": [],
   "source": [
    "# reset the index\n",
    "data = data.set_index(['firm','year'])"
   ]
  },
  {
   "cell_type": "markdown",
   "metadata": {},
   "source": [
    "### PanelOLS with Entity Effects¶\n",
    "\n",
    "Entity effects are specified using the special command EntityEffects. By default a constant is not included, and so if a constant is desired, 1+ should be included in the formula. When including effects, the model and fit are identical whether a constant is included or not."
   ]
  },
  {
   "cell_type": "code",
   "execution_count": null,
   "metadata": {},
   "outputs": [],
   "source": [
    "### No Constant\n",
    "mod = PanelOLS.from_formula(\"invest ~ value + capital + EntityEffects\", data = data)\n",
    "print(mod.fit())"
   ]
  },
  {
   "cell_type": "code",
   "execution_count": null,
   "metadata": {},
   "outputs": [],
   "source": [
    "### Add Constant\n",
    "mod = PanelOLS.from_formula(\"invest ~ 1 + value + capital + EntityEffects\", data = data)\n",
    "print(mod.fit())"
   ]
  },
  {
   "cell_type": "markdown",
   "metadata": {},
   "source": [
    "### PanelOLS with Entity Effects & Time Effects\n",
    "\n",
    "Time effects can be similarly included using *TimeEffects*. In many models, time effects can be consistently estimated and so they could be equivalently included in the set of regressors using a categorical variable."
   ]
  },
  {
   "cell_type": "code",
   "execution_count": null,
   "metadata": {},
   "outputs": [],
   "source": [
    "mod = PanelOLS.from_formula(\n",
    "    \"invest ~ 1 + value + capital + EntityEffects + TimeEffects\", data = data\n",
    ")\n",
    "print(mod.fit())"
   ]
  },
  {
   "cell_type": "markdown",
   "metadata": {},
   "source": [
    "### Between OLS"
   ]
  },
  {
   "cell_type": "code",
   "execution_count": null,
   "metadata": {},
   "outputs": [],
   "source": [
    "mod = BetweenOLS.from_formula(\"invest ~ 1 + value + capital\", data=data)\n",
    "print(mod.fit())"
   ]
  },
  {
   "cell_type": "markdown",
   "metadata": {},
   "source": [
    "### First Difference OLS"
   ]
  },
  {
   "cell_type": "code",
   "execution_count": null,
   "metadata": {},
   "outputs": [],
   "source": [
    "mod = FirstDifferenceOLS.from_formula(\"invest ~ value + capital\", data=data)\n",
    "print(mod.fit())"
   ]
  },
  {
   "cell_type": "markdown",
   "metadata": {},
   "source": [
    "### Pooled OLS"
   ]
  },
  {
   "cell_type": "markdown",
   "metadata": {},
   "source": [
    "The pooled OLS estimator is a special case of PanelOLS when there are no effects. It is effectively identical to OLS in statsmodels (or WLS) but is included for completeness."
   ]
  },
  {
   "cell_type": "code",
   "execution_count": null,
   "metadata": {},
   "outputs": [],
   "source": [
    "mod = PooledOLS.from_formula(\"invest ~ 1 + value + capital\", data = data)\n",
    "print(mod.fit())"
   ]
  }
 ],
 "metadata": {
  "kernelspec": {
   "display_name": "Python 3",
   "language": "python",
   "name": "python3"
  },
  "language_info": {
   "codemirror_mode": {
    "name": "ipython",
    "version": 3
   },
   "file_extension": ".py",
   "mimetype": "text/x-python",
   "name": "python",
   "nbconvert_exporter": "python",
   "pygments_lexer": "ipython3",
   "version": "3.11.2"
  },
  "orig_nbformat": 4
 },
 "nbformat": 4,
 "nbformat_minor": 2
}
